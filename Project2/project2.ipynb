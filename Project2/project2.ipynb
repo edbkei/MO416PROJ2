{
 "cells": [
  {
   "cell_type": "markdown",
   "metadata": {},
   "source": [
    "# Project 2: Evolutionary Computing\n",
    "### Student: Eduardo S. Ito (RA 159086)\n",
    "### Student: Thales E. Nazatto (RA 074388)"
   ]
  },
  {
   "cell_type": "markdown",
   "metadata": {},
   "source": [
    "# 1 Introdução"
   ]
  },
  {
   "cell_type": "markdown",
   "metadata": {},
   "source": [
    "<p>Conforme referência [1], o problema da mochila (knapsack problem) é um problema de otimização combinatória, cujo objetivo é preencher uma mochila com o maior valor possível, não excedendo a capacidade máxima. A formulação do problema é extremamente simples, porém a solução é mais complexa, inclusive faz parte dos 21 problemas NP-completos de Richard Karp.<p>\n",
    "<p>O modelo evolucionário adotado será o Algoritmo Genético (GA).<p>\n",
    "<p>A implementação foi realizada utilizado mecanismo de OOP (Object Oriented Programming). A definição do problema é tratada pela classe KnapsackProblem (em problem.py), onde a função de fitness está implementada. A geração da população é realizada pela classe GenerationManager (em generation.py). A seleção da população pode ser realizada através de dos seguintes métodos \n",
    "roulette wheel, tournament battle royale e tournament playoff gerenciada pela classe Selection (em selection.py). A reprodução (crossover) pode ser realizada pelo método Asexual, Sexual com apenas um simples ponto, sexual em dois pontos na classe Reproduction (em reproduction.py). A mutação pode ser realizada pelos métodos generative, swap, sequence swap pela classe Mutation (em mutation.py). A controle da geração da nova população bem como encontrar as medidas de fitness, é realizada pela classe GeneticalgorithmFacade (em genetic_algorithm.py). A chamada de execução do algoritmo genético é realizada pelo método run_ga definido aqui no jupyter notebook com entrada de parâmetros número de gerações (generations), que também é o critério de parada, o tamanho da população de cromossomos (population_size), taxa de reprodução (crossover_probability), taxa de mutação (mutation_probability), vetores de valores, custos, pesos e o peso máximo que um repositório pode carregar, pode ser uma mochila, um caminhão, etc.<p>\n",
    "<p>O mecânismo de parada (stop criteria) é realizada pela classe stop_criteria.py pela tupla stop_criteria com o parâmetro num_generations que indica o número de gerações dentro do período de estabilidade  (steady period), onde não há oscilação significativa dos valores do fitness, e o parâmetro type cujo default é StopCriteriaType.STEADY_PERIOD.<p>\n",
    "<p>A figura abaixo ilustra como será resolvido um problema em alto nível. Uma mochila teria a capacidade de carregar um peso máximo de 20 (MaxWeight) e teria que levar alguma combinações de items, que tem pesos (itemWeight) e valores (itemvalue), objetivamente levar items cuja combinação de pesos não excedam a capacidade da mochila de 20 unidades e o máximo de valores. Por critério de notação, valores e custos podem significar a mesma coisa neste projeto. No exemplo abaixo, a abstração mostra que cada item do produto é representado de forma binária (0: não carrega o produto, 1: carrega o produto). Inicialmente inicia-se uma população com um certo tamanho de cromossomos (no examplo é 4). Na reprodução (crossover), nova população é gerada com alelos dos pais. População que foi gerada a partir do crossover podem sofrer mutações em algum alelo de forma aleatória. A população final, se será integrada com a população inicial, dependende da estratégia de geração.<p>"
   ]
  },
  {
   "attachments": {
    "abstraction.PNG": {
     "image/png": "[encoded data removed]"
    }
   },
   "cell_type": "markdown",
   "metadata": {},
   "source": [
    "![abstraction.PNG](attachment:abstraction.PNG)"
   ]
  },
  {
   "cell_type": "markdown",
   "metadata": {},
   "source": [
    "# 2 Requisito do Projeto"
   ]
  },
  {
   "cell_type": "code",
   "execution_count": 14,
   "metadata": {},
   "outputs": [],
   "source": [
    "import os\n",
    "os.startfile('p2.pdf')"
   ]
  },
  {
   "cell_type": "markdown",
   "metadata": {},
   "source": [
    "# 3 Modelamento"
   ]
  },
  {
   "cell_type": "code",
   "execution_count": 15,
   "metadata": {},
   "outputs": [],
   "source": [
    "import os\n",
    "os.startfile('modellingClasses.pdf')"
   ]
  },
  {
   "cell_type": "markdown",
   "metadata": {},
   "source": [
    "# 4 Solução do Problema\n",
    "## 4.1 Definições de bibliotecas (libraries) e funções iniciais obrigatórias"
   ]
  },
  {
   "cell_type": "code",
   "execution_count": 17,
   "metadata": {},
   "outputs": [],
   "source": [
    "import matplotlib.pyplot as plt\n",
    "import numpy as np\n",
    "from IPython.core.display import display, HTML\n",
    "from IPython.display import IFrame, display\n",
    "import tabulate\n",
    "from PIL import Image\n",
    "import os\n",
    "from IPython.core.display import display, HTML\n",
    "import tabulate\n",
    "from PIL import Image\n",
    "\n",
    "from knapsack.config import Config\n",
    "from knapsack.genetic_algorithm import GeneticAlgorithmFacade\n",
    "from knapsack.generation import GenerationStrategy\n",
    "from knapsack.mutation import MutationStrategy\n",
    "from knapsack.problem import ProblemType\n",
    "from knapsack.reproduction import ReproductionStrategy\n",
    "from knapsack.selection import SelectionStrategy\n",
    "from knapsack.stop_criteria import StopCriteriaType\n",
    "\n",
    "def plot_fitness(generationsResult):\n",
    "    best = list(map(lambda result: result[\"best\"], generationsResult))\n",
    "    mean = list(map(lambda result: result[\"mean\"], generationsResult))\n",
    "    worst = list(map(lambda result: result[\"worst\"], generationsResult))\n",
    "    plt.plot(best, label=\"best\")\n",
    "    plt.plot(mean, label=\"mean\")\n",
    "    plt.plot(worst, label=\"worst\")\n",
    "\n",
    "    plt.xlabel(\"Generation\")\n",
    "    plt.ylabel(\"Fitness\")\n",
    "    plt.title(\"Knapsack Problem\")\n",
    "    plt.legend(loc='lower left', frameon=True)\n",
    "\n",
    "    plt.show()"
   ]
  },
  {
   "cell_type": "markdown",
   "metadata": {},
   "source": [
    "## 4.2 Aplicações do Knapsack problem"
   ]
  },
  {
   "cell_type": "markdown",
   "metadata": {},
   "source": [
    "### 4.2.1 Problema do carreto (cargo). Como levar o máximo de valores dentro do peso suportado pelo caminhão?"
   ]
  },
  {
   "cell_type": "code",
   "execution_count": 24,
   "metadata": {},
   "outputs": [
    {
     "name": "stdout",
     "output_type": "stream",
     "text": [
      "Processing ...generating file1.txt for graphics and file2.txt for detailed population generations\n",
      "[1, 1, 0, 1, 1, 0, 0, 0, 1, 1, 1, 1, 1] 3070\n",
      "[1, 1, 0, 1, 1, 0, 1, 0, 0, 1, 1, 1, 1] 3140\n",
      "[1, 1, 0, 1, 1, 0, 0, 0, 1, 1, 1, 1, 1] 3070\n",
      "[1, 1, 0, 1, 1, 0, 1, 0, 1, 1, 1, 0, 1] 3060\n",
      "[1, 1, 0, 1, 1, 0, 1, 0, 0, 1, 1, 1, 1] 3140\n",
      "[1, 1, 0, 1, 1, 1, 0, 0, 0, 1, 1, 0, 1] 2940\n",
      "[1, 1, 0, 1, 1, 0, 1, 0, 0, 1, 1, 1, 1] 3140\n",
      "[0, 0, 1, 0, 0, 0, 1, 1, 1, 1, 1, 1, 1] 2810\n",
      "[1, 1, 0, 1, 1, 0, 1, 0, 0, 1, 1, 1, 1] 3140\n",
      "[0, 0, 1, 0, 0, 0, 1, 1, 1, 1, 1, 1, 1] 2810\n",
      "[1, 1, 0, 1, 1, 0, 1, 0, 0, 1, 1, 1, 1] 3140\n",
      "[0, 1, 0, 1, 1, 0, 1, 0, 1, 1, 1, 1, 1] 3190\n",
      "[1, 1, 0, 1, 1, 0, 1, 0, 0, 1, 1, 1, 1] 3140\n",
      "[0, 1, 0, 1, 1, 0, 1, 0, 1, 1, 1, 1, 1] 3190\n",
      "[0, 1, 0, 1, 1, 0, 1, 0, 1, 1, 1, 1, 1] 3190\n",
      "[0, 1, 0, 1, 1, 0, 1, 0, 1, 1, 1, 1, 1] 3190\n",
      "[0, 1, 0, 1, 1, 0, 1, 0, 1, 1, 1, 1, 1] 3190\n",
      "[0, 1, 0, 1, 1, 0, 1, 0, 1, 1, 1, 1, 1] 3190\n",
      "[0, 1, 0, 1, 1, 0, 1, 0, 1, 1, 1, 1, 1] 3190\n",
      "[0, 0, 1, 0, 0, 1, 1, 1, 1, 1, 1, 1, 1] 3060\n",
      "[0, 1, 0, 1, 1, 0, 1, 0, 1, 1, 1, 1, 1] 3190\n",
      "[1, 1, 0, 1, 1, 0, 1, 0, 0, 1, 1, 1, 1] 3140\n",
      "[0, 1, 0, 1, 1, 0, 1, 0, 1, 1, 1, 1, 1] 3190\n",
      "[1, 1, 0, 1, 1, 0, 1, 0, 0, 1, 1, 1, 1] 3140\n",
      "[0, 1, 0, 1, 1, 0, 1, 0, 1, 1, 1, 1, 1] 3190\n",
      "[1, 1, 0, 1, 1, 0, 1, 0, 0, 1, 1, 1, 1] 3140\n",
      "[0, 1, 0, 1, 1, 0, 1, 0, 1, 1, 1, 1, 1] 3190\n",
      "[0, 0, 1, 0, 1, 0, 1, 1, 0, 1, 1, 1, 1] 3160\n",
      "[0, 1, 0, 1, 1, 0, 1, 0, 1, 1, 1, 1, 1] 3190\n",
      "[0, 1, 1, 0, 1, 1, 1, 0, 0, 1, 1, 1, 1] 3400\n",
      "[0, 1, 0, 1, 1, 0, 1, 0, 1, 1, 1, 1, 1] 3190\n",
      "[0, 1, 1, 0, 1, 1, 1, 0, 0, 1, 1, 1, 1] 3400\n",
      "[0, 1, 1, 0, 1, 1, 1, 0, 0, 1, 1, 1, 1] 3400\n",
      "[0, 1, 1, 1, 0, 1, 1, 1, 0, 1, 1, 1, 1] 3350\n",
      "[0, 1, 1, 0, 1, 1, 1, 0, 0, 1, 1, 1, 1] 3400\n",
      "[1, 1, 1, 0, 1, 0, 1, 1, 1, 1, 0, 1, 1] -1\n",
      "[0, 1, 1, 0, 1, 1, 1, 0, 0, 1, 1, 1, 1] 3400\n",
      "[0, 1, 0, 0, 1, 1, 1, 0, 0, 1, 1, 1, 1] 3200\n",
      "[0, 1, 1, 0, 1, 1, 1, 0, 0, 1, 1, 1, 1] 3400\n",
      "[0, 1, 1, 0, 1, 1, 1, 0, 0, 1, 1, 1, 1] 3400\n",
      "[0, 1, 1, 0, 1, 1, 1, 0, 0, 1, 1, 1, 1] 3400\n",
      "[0, 1, 0, 0, 1, 1, 0, 0, 1, 1, 1, 1, 1] 3130\n",
      "[0, 1, 1, 0, 1, 1, 1, 0, 0, 1, 1, 1, 1] 3400\n",
      "[0, 1, 0, 0, 1, 1, 0, 0, 1, 1, 1, 1, 1] 3130\n",
      "[0, 1, 1, 0, 1, 1, 1, 0, 0, 1, 1, 1, 1] 3400\n",
      "[0, 0, 1, 1, 1, 0, 0, 1, 0, 1, 1, 1, 1] 3030\n",
      "[0, 1, 1, 0, 1, 1, 1, 0, 0, 1, 1, 1, 1] 3400\n",
      "[0, 0, 1, 1, 1, 0, 0, 1, 0, 1, 1, 1, 1] 3030\n",
      "[0, 1, 1, 0, 1, 1, 1, 0, 0, 1, 1, 1, 1] 3400\n",
      "\n",
      "Best choice: \n",
      "[0, 1, 1, 0, 1, 1, 1, 0, 0, 1, 1, 1, 1] - Fitness: 3400 - Cost: 3400 - Cargo: 550 - Generations at stop criteria: 10\n"
     ]
    },
    {
     "data": {
      "image/png": "[encoded data removed]",
      "text/plain": [
       "<Figure size 432x288 with 1 Axes>"
      ]
     },
     "metadata": {
      "needs_background": "light"
     },
     "output_type": "display_data"
    }
   ],
   "source": [
    "# Caso 1: Cargo\n",
    "\n",
    "config = Config({\n",
    "    'problem': {\n",
    "    'type': ProblemType.MAXIMIZATION,                           # MINIMIZATION, MAXIMIZATION\n",
    "    'values': [0, 1],\n",
    "    'costs': [100, 350, 200, 90, 500, 250, 220, 360, 150, 700, 400, 230, 550],\n",
    "    'weights': [50, 90, 30, 40, 100, 70, 20, 80, 80, 90, 50, 30, 70],\n",
    "    'cargo': 600\n",
    "    },\n",
    "    'selection': {\n",
    "        'strategy': SelectionStrategy.ROULETTE # ROULETTE, TORNAMENT_BATTLE_ROYALE, or TOURNAMENT_PLAYOFF\n",
    "    },\n",
    "    'reproduction': {\n",
    "        'strategy': ReproductionStrategy.SEXUAL_DOUBLE_POINTS,  # ASEXUAL, SEXUAL_SINGLE_POINT, SEXUAL_DOUBLE_POINTS\n",
    "        'rate': 0.8\n",
    "    },\n",
    "    'mutation': {\n",
    "        'strategy': MutationStrategy.SEQUENCE_SWAP,            # GENERATIVE, SWAP, SEQUENCE_SWAP\n",
    "        'rate': 0.2\n",
    "    },\n",
    "    'generation': {\n",
    "        'strategy': GenerationStrategy.EXCHANGE,               # EXCHANGE, ELITISM, STEADY_STATE\n",
    "        'population_size': 25,\n",
    "    },\n",
    "    'stop_criteria': {\n",
    "        'num_generations': 10, #Used only on MAX_GENERATIONS and STEADY_PERIOD\n",
    "        'type': StopCriteriaType.STEADY_PERIOD                 # MAX_GENERATION, MAX_FITNESS, CONVERGENCE, STEADY_PERIOD\n",
    "        }\n",
    "})\n",
    "\n",
    "generationsResult = GeneticAlgorithmFacade(config).execute()\n",
    "\n",
    "plot_fitness(generationsResult)"
   ]
  },
  {
   "cell_type": "markdown",
   "metadata": {},
   "source": [
    "### 4.2.2 Problema da mochila. Como levar o máximo de valores dentro do peso suportado pela mochila?"
   ]
  },
  {
   "cell_type": "code",
   "execution_count": 23,
   "metadata": {},
   "outputs": [
    {
     "name": "stdout",
     "output_type": "stream",
     "text": [
      "Processing ...generating file1.txt for graphics and file2.txt for detailed population generations\n",
      "[0, 1, 0, 1, 1, 0] 24\n",
      "[0, 1, 0, 1, 1, 0] 24\n",
      "[0, 1, 0, 1, 1, 0] 24\n",
      "[0, 1, 0, 1, 1, 0] 24\n",
      "[0, 1, 0, 1, 1, 0] 24\n",
      "[0, 1, 0, 1, 1, 0] 24\n",
      "[0, 1, 0, 1, 1, 0] 24\n",
      "[0, 1, 0, 1, 1, 0] 24\n",
      "[0, 1, 0, 1, 1, 0] 24\n",
      "[0, 1, 0, 1, 1, 0] 24\n",
      "[0, 1, 0, 1, 1, 0] 24\n",
      "[0, 1, 0, 1, 1, 0] 24\n",
      "[0, 1, 0, 1, 1, 0] 24\n",
      "[0, 1, 0, 1, 1, 0] 24\n",
      "[0, 1, 0, 1, 1, 0] 24\n",
      "[0, 1, 0, 1, 1, 0] 24\n",
      "[0, 1, 0, 1, 1, 0] 24\n",
      "[0, 1, 0, 1, 1, 0] 24\n",
      "[0, 1, 0, 1, 1, 0] 24\n",
      "\n",
      "Best choice: \n",
      "[0, 1, 0, 1, 1, 0] - Fitness: 24 - Cost: 24 - Cargo: 15 - Generations at stop criteria: 10\n"
     ]
    },
    {
     "data": {
      "image/png": "[encoded data removed]",
      "text/plain": [
       "<Figure size 432x288 with 1 Axes>"
      ]
     },
     "metadata": {
      "needs_background": "light"
     },
     "output_type": "display_data"
    }
   ],
   "source": [
    "# Caso 2: Knapsack problem\n",
    "\n",
    "# Knapsack maximum capabilityKnapsack\n",
    "maxWeight=20\n",
    "\n",
    "# Product List for Knapsack\n",
    "\n",
    "config = Config({\n",
    "    'problem': {\n",
    "    'type': ProblemType.MAXIMIZATION,                           # MINIMIZATION, MAXIMIZATION\n",
    "    'values': [0, 1],\n",
    "    'costs': [3, 5, 4, 9, 10, 6],\n",
    "    'weights': [7, 3, 8, 3, 9, 11],\n",
    "    'cargo': 20\n",
    "    },\n",
    "    'selection': {\n",
    "        'strategy': SelectionStrategy.ROULETTE  # ROULETTE, TORNAMENT_BATTLE_ROYALE, or TOURNAMENT_PLAYOFF\n",
    "    },\n",
    "    'reproduction': {\n",
    "        'strategy': ReproductionStrategy.SEXUAL_DOUBLE_POINTS,   # ASEXUAL, SEXUAL_SINGLE_POINT, SEXUAL_DOUBLE_POINTS\n",
    "        'rate': 0.8\n",
    "    },\n",
    "    'mutation': {\n",
    "        'strategy': MutationStrategy.SEQUENCE_SWAP,            # GENERATIVE, SWAP, SEQUENCE_SWAP\n",
    "        'rate': 0.2\n",
    "    },\n",
    "    'generation': {\n",
    "        'strategy': GenerationStrategy.EXCHANGE,               # EXCHANGE, ELITISM, STEADY_STATE\n",
    "        'population_size': 25,\n",
    "    },\n",
    "    'stop_criteria': {\n",
    "        #'fitness': 0, #Used only on MAX_FITNESS\n",
    "        'num_generations': 10, #Used only on MAX_GENERATIONS and STEADY_PERIOD\n",
    "        'type': StopCriteriaType.STEADY_PERIOD                 # MAX_GENERATION, MAX_FITNESS, CONVERGENCE, STEADY_PERIOD\n",
    "        }\n",
    "})\n",
    "\n",
    "generationsResult = GeneticAlgorithmFacade(config).execute()\n",
    "\n",
    "plot_fitness(generationsResult)"
   ]
  },
  {
   "cell_type": "markdown",
   "metadata": {},
   "source": [
    "## 4.3 Avaliação de Desempenho"
   ]
  },
  {
   "cell_type": "markdown",
   "metadata": {},
   "source": [
    "|Acronym|Strategy|Type|Description|Status|\n",
    "|-------|--------|----|-----------|------|\n",
    "|P1|Problem|MAXIMIZATION|Default|Ativo|\n",
    "|P2|Problem|MINIMIZATION|xxxxx|Passivo|\n",
    "|S1|Selection|TOURNAMENT_BATTLE_ROYALE|Escolha aleatória da população e torneio entre eles|Passivo|\n",
    "|S2|Selection|ROULETTE|Seleciona individuais aleatoriamente, fornecendo chances de reprodução ao fittest|Passivo|\n",
    "|S3|Selection|TOURNAMENT_PLAYOFF|xxxxx|Passivo|\n",
    "|R1|Reproduction|ASEXUAL|Duplicação de cromossomos|Passivo|\n",
    "|R2|Reproduction|SEXUAL_SINGLE_POINT|Apenas um ponto de crossover|Ativo|\n",
    "|R3|Reproduction|SEXUAL_DOUBLE_POINTS|Dois pontos de crossover|Passivo|\n",
    "|M1|Mutation|GENERATIVE|Aumenta alelos mutantes|Passivo|\n",
    "|M2|Mutation|SWAP|Dois alelos aleatórios se trocam de posição|Passivo|\n",
    "|M3|Mutation|SEQUENCE_SWAP|Um conjunto de alelos no cromossomos muda de ordem|Ativo|\n",
    "|G1|Generation|EXCHANGE|A população gerada substitui totalmente a anterior|Ativo|\n",
    "|G2|Generation|ELITISM|A população gerada substitui a anterior, com apenas o fittest da anterior|Passivo|\n",
    "|G3|Generation|STEADY_STATE|M <N individuais são gerados e o M substitui o pior M da população como um todo|Passivo|\n",
    "|X1|Stop Criteria|MAX_GENERATION|xxxxx|Passivo|\n",
    "|X2|Stop Criteria|MAX_FITNESS|xxxxx|Passivo|\n",
    "|X3|Stop Criteria|CONVERGENCE|xxxxx|Passivo|\n",
    "|X4|Stop Criteria|STEADY_PERIOD|Parada no período de estabilidade ou convergência (last k generations)|Ativo|"
   ]
  },
  {
   "cell_type": "markdown",
   "metadata": {},
   "source": [
    "|Problema|Fitness|Valor  |Peso   |Stop (Parada)|Comentário|\n",
    "|--------|-------|-------|-------|-------------|----------|\n",
    "|Cargo (P1, S1, R2, M3, G1, X4)|3360|3360|580|10|Convergência prematura|\n",
    "|Cargo (P1, S2, R2, M3, G1, X4)|3510|3510|560|10|Convergência prematura|\n",
    "|Cargo (P1, S2, R3, M3, G1, X4)|3400|3400|550|10|Convergência não prematura|\n",
    "|Mochila (P1, S1, R2, M3, G1, X4)|20|20|17|10|Convergência prematura|\n",
    "|Mochila (P1, S2, R2, M3, G1, X4)|24|24|15|10|Convergência prematura|\n",
    "|Mochila (P1, S2, R3, M3, G1, X4)|24|24|15|10|Convergência prematura|"
   ]
  },
  {
   "cell_type": "markdown",
   "metadata": {},
   "source": [
    "# 5 Conclusão\n",
    "<p>A convergência, se prematura ou não, do valor do fitness depende de combinações das estratégias. Valores ótimos do fitness também depende de combinações das estratégias usadas. <p>"
   ]
  },
  {
   "cell_type": "markdown",
   "metadata": {},
   "source": [
    "# 6 Referências\n",
    "<ol>\n",
    "<li>https://pt.wikipedia.org/wiki/Problema_da_mochila</li>\n",
    "<li>https://www.youtube.com/watch?v=9kbzMeEBvUY</li>\n",
    "</ol>"
   ]
  },
  {
   "cell_type": "markdown",
   "metadata": {},
   "source": [
    "# Versões\n",
    "### v1.0 Eduardo mais envolvido com o notebook e modelamento e menos envolvido com código. Thales menos envolvido com notebook e mais envolvimento com código."
   ]
  }
 ],
 "metadata": {
  "kernelspec": {
   "display_name": "Python 3",
   "language": "python",
   "name": "python3"
  },
  "language_info": {
   "codemirror_mode": {
    "name": "ipython",
    "version": 3
   },
   "file_extension": ".py",
   "mimetype": "text/x-python",
   "name": "python",
   "nbconvert_exporter": "python",
   "pygments_lexer": "ipython3",
   "version": "3.7.3"
  }
 },
 "nbformat": 4,
 "nbformat_minor": 4
}
