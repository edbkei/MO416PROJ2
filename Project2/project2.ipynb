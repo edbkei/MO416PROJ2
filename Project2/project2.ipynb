{
 "cells": [
  {
   "cell_type": "markdown",
   "metadata": {},
   "source": [
    "# Project 2: Evolutionary Computing\n",
    "\n",
    "### Student: Eduardo S. Ito (RA 159086)\n",
    "### Student: Thales E. Nazatto (RA 074388)\n",
    "\n",
    "### Code: https://github.com/edbkei/MO416PROJ2"
   ]
  },
  {
   "cell_type": "markdown",
   "metadata": {},
   "source": [
    "# 1. Introdução"
   ]
  },
  {
   "cell_type": "markdown",
   "metadata": {},
   "source": [
    "<p>Conforme referência <strong>[1]</strong>, o problema da mochila (<i>knapsack problem</i>) é um problema de otimização combinatória, cujo objetivo é preencher uma mochila com o maior valor possível de itens considerando seus pesos e valores, não excedendo a capacidade máxima e sendo ilustrado na figura abaixo. A formulação do problema é extremamente simples, porém a solução é mais complexa. Fez parte dos 21 problemas NP-completos de Richard Karp, sendo divulgado em 1972 e foi a base do primeiro algoritmo de chave pública (criptografia assimétrica).</p>\n",
    "    \n",
    "<center><img src=\"https://upload.wikimedia.org/wikipedia/commons/thumb/f/fd/Knapsack.svg/800px-Knapsack.svg.png\"/ height=\"520\" width=\"390\"></center>\n",
    "    \n",
    "<p>Este relatório tem como objetivo mostrar como seria a resolução deste problema usando modelos evolucionários. Detalhes sobre a resolução e modelagem do problema estão na seção 2, experimentos e seus resultados estão na seção 3 e suas conclusões estão na seção 4.</p>"
   ]
  },
  {
   "cell_type": "markdown",
   "metadata": {},
   "source": [
    "# 2. Implementação e modelagem\n",
    "\n",
    "## 2.1. Detalhes da implementação\n",
    "\n",
    "### 2.1.1. Divisão do Algoritmo"
   ]
  },
  {
   "cell_type": "markdown",
   "metadata": {},
   "source": [
    "<p>Normalmente este problema é resolvido com programação dinâmica, obtendo então a resolução exata do problema, mas também é possível usar modelos evolucionários para encontrar o modelo. O modelo evolucionário adotado será o <strong>Algoritmo Genético (GA).</strong>.<p>\n",
    "<p>A implementação foi realizada em Python 3 utilizando as vantagens presentes nos conceitos de OOP (<strong>Object Oriented Programming</strong>) para dividir as etapas em 5 partes: Problema, Geração da população, Seleção, Mutação e Critério de parada. A definição do problema é tratada pela classe <strong>KnapsackProblem</strong> (em <strong>problem.py</strong>), onde a função de <i>fitness</i> está implementada. A geração da população é realizada pela classe <strong>GenerationManager</strong> (em <strong>generation.py</strong>). A seleção da população pode ser realizada através de dos seguintes métodos: </p>\n",
    "<p>\n",
    "<ul>\n",
    "    <li>Método da roleta(<i>roulette wheel</i>)</li>\n",
    "    <li>\n",
    "        Métodos de torneio, com as seguintes estratégias:\n",
    "        <ul>\n",
    "            <li>Todos contra todos em partida única (<i>battle royale</i>)</li>\n",
    "            <li>Competição eliminatória (<i>playoff</i>/\"mata-mata\")</li>\n",
    "        </ul>\n",
    "    </li>\n",
    "</ul>\n",
    "<p>Gerenciados pela classe <strong>Selection</strong> (em <strong>selection.py</strong>). A reprodução (<i>crossover</i>) pode ser realizada pelo método Asexual, Sexual com apenas um simples ponto, sexual em dois pontos na classe <strong>Reproduction</strong> (em <strong>reproduction.py</strong>). A mutação pode ser realizada pelos métodos flip, swap, sequence swap pela classe <strong>Mutation</strong> (em mutation.py). O mecânismo de parada (<strong>StopCriteria</strong>) é realizado pela classe <strong>stop_criteria.py</strong>, que pode ser definido pelos seguintes critérios: </p>\n",
    "<ul>\n",
    "    <li>Máximo de gerações</li>\n",
    "    <li><i>fitness</i> máximo (para determinar a solução definitiva de um problema)</li>\n",
    "    <li>\n",
    "        Critérios de convergência, indicando que o modelo deve ter chegado em seu ótimo local:\n",
    "        <ul>\n",
    "            <li>Quórum de indivíduos com o mesmo <i>fitness</i></li>\n",
    "            <li>Número de gerações em que o <i>fitness</i> máximo permanece inalterado</li>\n",
    "        </ul>\n",
    "    </li>\n",
    "</ul>"
   ]
  },
  {
   "cell_type": "markdown",
   "metadata": {},
   "source": [
    "### 2.1.2. Integração, controle e configuração da execução"
   ]
  },
  {
   "cell_type": "markdown",
   "metadata": {},
   "source": [
    "<p>Para gerenciar todos esses métodos e colocá-los cooredenadamente em uma única execução, foram aplicados os <i>design patterns</i> <strong>Strategy</strong> e <strong>Facade</strong>. Cada um dos métodos presentes nas etapas foi enumerado em diferentes classes de estratégia e, para consolidá-las, foi criada a classe de configuração <strong>Config</strong> (presente em <strong>config.py</strong>), cujo único método presente nela recebe um dicionário com estas estratégias e instancia todas as classes de cada etapa com as estratégias necessárias (quase como o <i>design pattern</i> <strong>Factory</strong>, porém encapsulando todas as etapas na própria classe de configuração).</p>\n",
    "<p>Para o problema da mochila, o dicionário recebido possui o seguinte padrão (Descrição dos valores possíveis podem ser vistos na tabela presente na seção 3.3.1):</p>\n",
    "<ul>\n",
    "    <li>\n",
    "        <strong>problem</strong>: Determina o problema modelado\n",
    "        <ul>\n",
    "            <li><strong>type</strong>: Determina o o tipo de problema evolucionário (<strong>MAXIMIZATION</strong>/<strong>MINIMIZATION</strong>)</li>\n",
    "            <li><strong>values</strong>: <i>Array</i> de valores a serem calculados pelo problema evolucionário</li>\n",
    "            <li><strong>costs</strong>: <i>Array</i> de custos para serem calculados pelo problema evolucionário</li>\n",
    "            <li><strong>weights</strong>: <i>Array</i> de pesos para serem calculados pelo problema evolucionário</li>\n",
    "            <li><strong>cargo</strong>: Carga máxima da mochila</li>\n",
    "        </ul>\n",
    "    </li>\n",
    "    <li>\n",
    "        <strong>selection</strong>: Determina a seleção utilizada\n",
    "        <ul>\n",
    "            <li><strong>strategy</strong>: Estratégia da seleção(<strong>ROULETTE</strong>/<strong>TOURNAMENT_PLAYOFF</strong>/<strong>TOURNAMENT_BATTLE_ROYALE</strong>)</li>\n",
    "        </ul>\n",
    "    </li>\n",
    "    <li>\n",
    "        <strong>reproduction</strong>: Determina a reprodução utilizada\n",
    "        <ul>\n",
    "            <li><strong>strategy</strong>: Estratégia da reprodução(<strong>ASEXUAL</strong>/<strong>SEXUAL_SINGLE_POINT</strong>/<strong>SEXUAL_DOUBLE_POINTS</strong>)</li>\n",
    "            <li><strong>rate</strong>: Taxa de sucesso da reprodução</li>\n",
    "        </ul>\n",
    "    </li>\n",
    "    <li>\n",
    "        <strong>mutation</strong>: Determina a mutação utilizada\n",
    "        <ul>\n",
    "            <li><strong>strategy</strong>: Estratégia da mutação(<strong>FLIP</strong>/<strong>SWAP</strong>/<strong>SEQUENCE_SWAP</strong>)</li>\n",
    "            <li><strong>rate</strong>: Taxa de sucesso da mutação</li>\n",
    "        </ul>\n",
    "    </li>\n",
    "    <li>\n",
    "        <strong>generation</strong>: Determina a geração utilizada\n",
    "        <ul>\n",
    "            <li><strong>strategy</strong>: Estratégia da geração(<strong>EXCHANGE</strong>/<strong>ELITISM</strong>/<strong>STEADY_STATE</strong>)</li>\n",
    "            <li><strong>population_size</strong>: Tamanho da população</li>\n",
    "            <li><strong>substituted_population_size</strong>: Tamanho da população que será substituída se a estratégia utilizada for STEADY_STATE</li>\n",
    "        </ul>\n",
    "    </li>\n",
    "    <li>\n",
    "        <strong>stop_criteria</strong>: Determina o critério de parada\n",
    "        <ul>\n",
    "            <li><strong>type</strong>: Determina o o tipo de parada(<strong>MAX_GENERATIONS</strong>/<strong>MAX_FITNESS</strong>/<strong>CONVERGENCE</strong>/<strong>STEADY_PERIOD</strong>)</li>\n",
    "            <li><strong>fitness</strong>: Fitness máximo. Utilizado em MAX_FITNESS</li>\n",
    "            <li><strong>num_generations</strong>: Número de gerações máximo. Utilizado em MAX_GENERATIONS e STEADY_PERIOD</li>\n",
    "            <li><strong>quorum</strong>: Quorum da população. Utilizado em CONVERGENCE</li>\n",
    "        </ul>\n",
    "    </li>\n",
    "</ul>\n",
    "<p>O controle da geração da nova população, bem como encontrar as medidas de <i>fitness</i>, é realizada pela classe <strong>GeneticalgorithmFacade</strong> (em <strong>genetic_algorithm.py</strong>), que recebe esta configuração e executa o algoritmo através do método <strong>execute</strong>.</p>"
   ]
  },
  {
   "cell_type": "markdown",
   "metadata": {},
   "source": [
    "## 2.2. Requisitos do Projeto"
   ]
  },
  {
   "cell_type": "code",
   "execution_count": 10,
   "metadata": {},
   "outputs": [],
   "source": [
    "import os\n",
    "os.startfile('p2.pdf')"
   ]
  },
  {
   "cell_type": "markdown",
   "metadata": {},
   "source": [
    "## 2.3. Modelagem\n",
    "### 2.3.1. Modelagem das classes"
   ]
  },
  {
   "cell_type": "code",
   "execution_count": 22,
   "metadata": {},
   "outputs": [],
   "source": [
    "import os\n",
    "os.startfile('modellingClasses.pdf')"
   ]
  },
  {
   "cell_type": "markdown",
   "metadata": {},
   "source": [
    "### 2.3.2. Modelagem do problema"
   ]
  },
  {
   "cell_type": "markdown",
   "metadata": {},
   "source": [
    "<p>A figura abaixo ilustra como será resolvido um problema em alto nível. Uma mochila teria a capacidade de carregar um peso máximo de 20 (<i>MaxWeight</i>) e teria que levar alguma combinações de items, que tem pesos (<i>itemWeight</i>) e valores (<i>itemvalue</i>), objetivamente levar items cuja combinação de pesos não excedam a capacidade da mochila de 20 unidades e o máximo de valores. Por critério de notação, valores e custos podem significar a mesma coisa neste projeto. No exemplo abaixo, a abstração mostra que cada item do produto é representado de forma binária (0: não carrega o produto, 1: carrega o produto). Inicialmente inicia-se uma população com um certo tamanho de cromossomos (no exemplo é 4). Na reprodução (<i>crossover</i>),  uma nova população é gerada com alelos dos pais. População que foi gerada a partir do crossover podem sofrer mutações em algum alelo de forma aleatória. A população final, se será integrada com a população inicial, dependende da estratégia de geração.<p>"
   ]
  },
  {
   "cell_type": "markdown",
   "metadata": {},
   "source": [
    "![abstraction.PNG](attachment:abstraction.PNG)"
   ]
  },
  {
   "cell_type": "markdown",
   "metadata": {},
   "source": [
    "<p>Dado o exemplo e o código acima, a classe <strong>KnapsackProblem</strong> foi modelada como um problema de maximização dos custos dos produtos, desde que não excedam a carga. Para isso, ela foi configurada com as seguintes propriedades e representações:</p>\n",
    "<ul>\n",
    "    <li><strong>values</strong>: <i>Array</i> de valores possíveis para o problema. Representado pelo valor <strong>[0,1]</strong>, determinando se determinado produto está ou não na mochila.</li>\n",
    "    <li><strong>costs</strong>: <i>Array</i> de custos de cada produto.</li>\n",
    "    <li><strong>weights</strong>: <i>Array</i> de pesos de cada produto.</li>\n",
    "    <li><strong>cargo</strong>: Carga máxima da mochila.</li>\n",
    "</ul>\n",
    "<p>E com as seguintes restrições:</p>\n",
    "<ul>\n",
    "    <li>A carga da mochila deve ser positiva.</li>\n",
    "    <li>Deve haver pelo menos um produto a ser carregado.</li>\n",
    "    <li><strong>costs</strong> e <strong>weights</strong> devem ter o mesmo número de elementos, uma vez que representam os mesmos produtos.</li>\n",
    "    <li>As combinações que excederem a carga máxima da mochila devem der invalidadas.</li>\n",
    "</ul>\n",
    "\n",
    "<p>Para as três primeiras restrições, a validação é feita na própria classe. No caso da quarta, a validação é realizada na função de <i>fitness</i>: Se o indivíduo for inválido, o valor retornado é -1, explicitando a invalidez uma vez que o menor valor possível do <i>fitness</i> de um indivíduo é 0 (Resultado de todos os produtos estarem fora da mochila).</p>"
   ]
  },
  {
   "cell_type": "raw",
   "metadata": {},
   "source": [
    "    def getFitness(self, individual):\n",
    "        if (self.validateIndividual(individual)):\n",
    "            return self.apply_costs(individual)\n",
    "        return -1"
   ]
  },
  {
   "cell_type": "markdown",
   "metadata": {},
   "source": [
    "<p>Um exemplo do problema da mochila é dado abaixo:</p>\n",
    "<li>costs: [3, 5, 4, 9, 10, 6]</li>\n",
    "<li>weights: [7, 3, 8, 3, 9, 11]</li>\n",
    "<li>cargo: 20</li>\n",
    "<p>Observe que cada dupla de custo ou valor (cost) e peso(weight) pertencem à apenas um produto carregável na mochila.</p>\n",
    "<p>A lista de produtos será representadado por vetor de 0's (não tem o produto) e 1's (tem o produto). Este vetor será denominado cromossomo e cada elemento do vetor será chamado de alelo. Um exemplo é dado abaixo:</p>\n",
    "<p>Seja o cromossomo [0, 1, 1, 1, 0, 0], seu cost será 18 (0x3+1x5+1x4+1x9+0x10+0x6), e também o fitness será 18 porque é valor de cost e o peso total dos produtos a serem carregados é 14 (0x7+1x3+1x8+1x3+0x9+0x11), o que é menor do que o cargo (ou peso máximo) da mochila que é 20."
   ]
  },
  {
   "cell_type": "markdown",
   "metadata": {},
   "source": [
    "# 3. Experimentos e aplicações\n",
    "## 3.1. Definições de bibliotecas (libraries) e funções iniciais obrigatórias"
   ]
  },
  {
   "cell_type": "code",
   "execution_count": 1,
   "metadata": {},
   "outputs": [],
   "source": [
    "import matplotlib.pyplot as plt\n",
    "import numpy as np\n",
    "from IPython.core.display import display, HTML\n",
    "from IPython.display import IFrame, display\n",
    "import tabulate\n",
    "from PIL import Image\n",
    "import os\n",
    "from IPython.core.display import display, HTML\n",
    "import tabulate\n",
    "from PIL import Image\n",
    "\n",
    "from knapsack.config import Config\n",
    "from knapsack.genetic_algorithm import GeneticAlgorithmFacade\n",
    "from knapsack.generation import GenerationStrategy\n",
    "from knapsack.mutation import MutationStrategy\n",
    "from knapsack.problem import ProblemType\n",
    "from knapsack.reproduction import ReproductionStrategy\n",
    "from knapsack.selection import SelectionStrategy\n",
    "from knapsack.stop_criteria import StopCriteriaType\n",
    "\n",
    "def plot_fitness(generationsResult):\n",
    "    best = list(map(lambda result: result[\"best\"], generationsResult))\n",
    "    mean = list(map(lambda result: result[\"mean\"], generationsResult))\n",
    "    worst = list(map(lambda result: result[\"worst\"], generationsResult))\n",
    "    plt.plot(best, label=\"best\")\n",
    "    plt.plot(mean, label=\"mean\")\n",
    "    plt.plot(worst, label=\"worst\")\n",
    "\n",
    "    plt.xlabel(\"Generation\")\n",
    "    plt.ylabel(\"Fitness\")\n",
    "    plt.title(\"Knapsack Problem\")\n",
    "    plt.legend(loc='lower left', frameon=True)\n",
    "\n",
    "    plt.show()"
   ]
  },
  {
   "cell_type": "markdown",
   "metadata": {},
   "source": [
    "## 3.2. Aplicações do Knapsack problem"
   ]
  },
  {
   "cell_type": "markdown",
   "metadata": {},
   "source": [
    "### 3.2.1. Problema do carreto. Como levar o máximo de valores dentro do peso suportado pelo caminhão?"
   ]
  },
  {
   "cell_type": "markdown",
   "metadata": {},
   "source": [
    "Para este problema, foi imaginado uma situação análoga a de uma mochila, que seria o transporte de cargas por um caminhão. O objetivo desta visualização é demonstrar a versatilidade do problema, mostrando que ele pode ser aplicado em vários tipos de situações."
   ]
  },
  {
   "cell_type": "code",
   "execution_count": 24,
   "metadata": {},
   "outputs": [
    {
     "name": "stdout",
     "output_type": "stream",
     "text": [
      "Processing ...generating file1.txt for graphics and file2.txt for detailed population generations\n",
      "[0, 0, 0, 1, 1, 0, 1, 1, 1, 1, 1, 0, 1] 2970\n",
      "[0, 1, 0, 0, 1, 1, 1, 1, 1, 1, 1, 0, 0] 2930\n",
      "[0, 0, 0, 1, 1, 1, 1, 1, 0, 1, 1, 1, 1] 3300\n",
      "[0, 0, 0, 1, 1, 1, 1, 1, 0, 1, 1, 1, 1] 3300\n",
      "[1, 0, 0, 1, 1, 1, 1, 1, 0, 1, 1, 1, 1] 3400\n",
      "[0, 0, 0, 1, 1, 1, 1, 1, 0, 1, 1, 1, 1] 3300\n",
      "[1, 1, 1, 0, 1, 1, 0, 0, 0, 1, 1, 1, 1] 3280\n",
      "[1, 1, 1, 0, 1, 1, 0, 0, 0, 1, 1, 1, 1] 3280\n",
      "[0, 0, 1, 0, 0, 1, 1, 1, 1, 1, 1, 1, 1] 3060\n",
      "[0, 0, 1, 0, 0, 1, 1, 1, 1, 1, 1, 1, 1] 3060\n",
      "[0, 0, 1, 0, 0, 1, 1, 1, 1, 1, 1, 1, 1] 3060\n",
      "[0, 0, 1, 0, 0, 1, 1, 1, 1, 1, 1, 1, 1] 3060\n",
      "[0, 0, 0, 1, 1, 1, 1, 1, 1, 1, 1, 0, 1] 3220\n",
      "[0, 0, 0, 1, 1, 1, 1, 1, 1, 1, 1, 0, 1] 3220\n",
      "[0, 0, 0, 1, 1, 1, 1, 1, 1, 1, 1, 0, 1] 3220\n",
      "[0, 0, 0, 1, 1, 1, 1, 1, 1, 1, 1, 0, 1] 3220\n",
      "[0, 0, 0, 1, 1, 1, 1, 1, 1, 1, 1, 0, 1] 3220\n",
      "[0, 0, 0, 0, 1, 1, 1, 1, 1, 1, 1, 1, 1] 3360\n",
      "[0, 0, 0, 0, 1, 1, 1, 1, 1, 1, 1, 1, 1] 3360\n",
      "[0, 0, 0, 0, 1, 1, 1, 1, 1, 1, 1, 1, 1] 3360\n",
      "[0, 0, 0, 0, 1, 1, 1, 1, 1, 1, 1, 1, 1] 3360\n",
      "[0, 0, 0, 0, 1, 1, 1, 1, 1, 1, 1, 1, 1] 3360\n",
      "[0, 0, 0, 0, 1, 1, 1, 1, 1, 1, 1, 1, 1] 3360\n",
      "[0, 0, 0, 0, 1, 1, 1, 1, 1, 1, 1, 1, 1] 3360\n",
      "[0, 1, 1, 0, 1, 0, 0, 1, 0, 1, 1, 1, 1] 3290\n",
      "[1, 0, 0, 1, 1, 1, 0, 0, 1, 1, 1, 1, 1] 2970\n",
      "[0, 0, 0, 0, 1, 1, 0, 1, 0, 1, 1, 1, 1] 2990\n",
      "[0, 0, 0, 1, 1, 0, 1, 1, 1, 1, 1, 1, 1] 3200\n",
      "[0, 0, 1, 1, 1, 0, 0, 1, 1, 1, 1, 1, 1] 3180\n",
      "[0, 0, 0, 1, 1, 0, 1, 1, 1, 1, 1, 1, 1] 3200\n",
      "[0, 0, 0, 1, 1, 1, 1, 1, 1, 1, 1, 0, 1] 3220\n",
      "[0, 1, 0, 0, 1, 0, 0, 1, 1, 1, 1, 1, 1] 3240\n",
      "[0, 1, 0, 0, 1, 0, 1, 1, 0, 1, 1, 1, 1] 3310\n",
      "[0, 1, 0, 0, 1, 0, 1, 1, 0, 1, 1, 1, 1] 3310\n",
      "[0, 0, 0, 1, 1, 1, 1, 1, 0, 1, 1, 1, 1] 3300\n",
      "[0, 0, 0, 1, 1, 1, 1, 1, 0, 1, 1, 1, 1] 3300\n",
      "[0, 0, 0, 1, 1, 1, 1, 1, 0, 1, 1, 1, 1] 3300\n",
      "[0, 0, 1, 1, 1, 1, 1, 1, 0, 1, 1, 1, 1] 3500\n",
      "[0, 0, 1, 1, 1, 1, 1, 1, 0, 1, 1, 1, 1] 3500\n",
      "[0, 0, 0, 0, 1, 1, 1, 1, 1, 1, 1, 1, 1] 3360\n",
      "[0, 0, 0, 0, 1, 1, 1, 1, 1, 1, 1, 1, 1] 3360\n",
      "[0, 0, 0, 0, 1, 1, 1, 1, 1, 1, 1, 1, 1] 3360\n",
      "[0, 0, 0, 0, 1, 1, 1, 1, 1, 1, 1, 1, 1] 3360\n",
      "[0, 0, 0, 0, 1, 1, 1, 1, 1, 1, 1, 1, 1] 3360\n",
      "[0, 0, 0, 0, 1, 1, 1, 1, 1, 1, 1, 1, 1] 3360\n",
      "[0, 0, 1, 1, 1, 0, 1, 1, 1, 1, 1, 1, 1] 3400\n",
      "[0, 0, 0, 0, 1, 1, 1, 1, 1, 1, 1, 1, 1] 3360\n",
      "[0, 0, 0, 1, 1, 1, 1, 1, 0, 1, 1, 1, 1] 3300\n",
      "[0, 0, 0, 1, 1, 1, 1, 1, 0, 1, 1, 1, 1] 3300\n",
      "[0, 0, 1, 0, 1, 1, 1, 1, 1, 1, 1, 0, 1] 3330\n",
      "[0, 0, 1, 0, 1, 1, 1, 1, 1, 1, 1, 0, 1] 3330\n",
      "[0, 0, 1, 0, 1, 1, 1, 1, 0, 1, 1, 1, 1] 3410\n",
      "[0, 0, 1, 0, 1, 1, 1, 1, 1, 1, 1, 0, 1] 3330\n",
      "[0, 0, 1, 0, 1, 1, 1, 1, 1, 1, 1, 0, 1] 3330\n",
      "[0, 0, 0, 1, 1, 1, 1, 1, 0, 1, 1, 1, 1] 3300\n",
      "[0, 0, 0, 1, 1, 1, 1, 1, 0, 1, 1, 1, 1] 3300\n",
      "[0, 0, 1, 0, 1, 1, 0, 1, 1, 1, 1, 1, 1] 3340\n",
      "[0, 0, 1, 0, 1, 1, 0, 1, 1, 1, 1, 1, 1] 3340\n",
      "[0, 0, 1, 0, 1, 1, 0, 1, 1, 1, 1, 1, 1] 3340\n",
      "[0, 0, 1, 0, 1, 1, 1, 1, 0, 1, 1, 1, 1] 3410\n",
      "[0, 0, 1, 0, 1, 1, 1, 1, 0, 1, 1, 1, 1] 3410\n",
      "[0, 0, 1, 0, 1, 1, 1, 1, 0, 1, 1, 1, 1] 3410\n",
      "[0, 0, 1, 0, 1, 1, 1, 1, 0, 1, 1, 1, 1] 3410\n",
      "[0, 0, 1, 0, 1, 1, 1, 1, 0, 1, 1, 1, 1] 3410\n",
      "[0, 0, 1, 0, 1, 1, 1, 1, 0, 1, 1, 1, 1] 3410\n",
      "[0, 0, 1, 0, 1, 1, 1, 1, 0, 1, 1, 1, 1] 3410\n",
      "[0, 0, 1, 0, 1, 1, 1, 1, 0, 1, 1, 1, 1] 3410\n",
      "[0, 0, 1, 0, 1, 1, 1, 1, 0, 1, 1, 1, 1] 3410\n",
      "[0, 0, 1, 0, 1, 1, 1, 1, 0, 1, 1, 1, 1] 3410\n",
      "[0, 1, 1, 0, 1, 0, 1, 1, 0, 1, 1, 1, 1] 3510\n",
      "[0, 0, 1, 0, 1, 1, 1, 1, 0, 1, 1, 1, 1] 3410\n",
      "[0, 0, 1, 0, 1, 1, 1, 1, 0, 1, 1, 1, 1] 3410\n",
      "[1, 1, 1, 0, 1, 0, 0, 1, 0, 1, 1, 1, 1] 3390\n",
      "[1, 1, 1, 0, 1, 0, 0, 1, 0, 1, 1, 1, 1] 3390\n",
      "[1, 1, 1, 0, 1, 0, 0, 1, 0, 1, 1, 1, 1] 3390\n",
      "[1, 1, 1, 0, 1, 0, 0, 1, 0, 1, 1, 1, 1] 3390\n",
      "[1, 1, 1, 0, 1, 0, 0, 1, 0, 1, 1, 1, 1] 3390\n",
      "[1, 1, 1, 0, 1, 0, 0, 1, 0, 1, 1, 1, 1] 3390\n",
      "[1, 1, 1, 0, 1, 0, 0, 1, 0, 1, 1, 1, 1] 3390\n",
      "[1, 1, 1, 0, 1, 0, 0, 1, 0, 1, 1, 1, 1] 3390\n",
      "[1, 1, 1, 0, 1, 0, 0, 1, 0, 1, 1, 1, 1] 3390\n",
      "[1, 1, 1, 0, 1, 0, 0, 1, 0, 1, 1, 1, 1] 3390\n",
      "[1, 1, 1, 0, 1, 0, 0, 1, 0, 1, 1, 1, 1] 3390\n",
      "[1, 1, 1, 0, 1, 0, 0, 1, 0, 1, 1, 1, 1] 3390\n",
      "[1, 1, 1, 0, 1, 0, 0, 1, 0, 1, 1, 1, 1] 3390\n",
      "[0, 1, 1, 0, 1, 0, 0, 1, 0, 1, 1, 1, 1] 3290\n",
      "[0, 1, 1, 0, 1, 0, 0, 1, 0, 1, 1, 1, 1] 3290\n",
      "[0, 1, 1, 0, 1, 1, 1, 0, 0, 1, 1, 1, 1] 3400\n",
      "[0, 1, 1, 0, 1, 1, 1, 0, 0, 1, 1, 1, 1] 3400\n",
      "[0, 1, 1, 1, 1, 0, 1, 1, 0, 1, 1, 1, 1] 3600\n",
      "[0, 1, 1, 1, 1, 0, 1, 1, 0, 1, 1, 1, 1] 3600\n",
      "[0, 1, 1, 0, 1, 1, 1, 0, 0, 1, 1, 1, 1] 3400\n",
      "[0, 1, 1, 0, 1, 1, 1, 0, 0, 1, 1, 1, 1] 3400\n",
      "[0, 1, 1, 0, 1, 1, 1, 0, 0, 1, 1, 1, 1] 3400\n",
      "[0, 1, 1, 0, 1, 1, 1, 0, 0, 1, 1, 1, 1] 3400\n",
      "[0, 1, 1, 0, 1, 1, 1, 0, 0, 1, 1, 1, 1] 3400\n",
      "[1, 1, 1, 0, 1, 1, 1, 0, 0, 1, 1, 1, 1] 3500\n",
      "[1, 1, 1, 0, 1, 1, 1, 0, 0, 1, 1, 1, 1] 3500\n",
      "[1, 1, 1, 0, 1, 1, 1, 0, 0, 1, 1, 1, 1] 3500\n",
      "[1, 1, 1, 0, 1, 1, 1, 0, 0, 1, 1, 1, 1] 3500\n",
      "\n",
      "Best choice: \n",
      "[0, 1, 1, 1, 1, 0, 1, 1, 0, 1, 1, 1, 1] - Fitness: 3600 - Cost: 3600 - Cargo: 600 - Generations at stop criteria: 100\n"
     ]
    },
    {
     "data": {
      "image/png": "[encoded data removed]",
      "text/plain": [
       "<Figure size 432x288 with 1 Axes>"
      ]
     },
     "metadata": {
      "needs_background": "light"
     },
     "output_type": "display_data"
    }
   ],
   "source": [
    "# Caso 1: Carreto\n",
    "\n",
    "config = Config({\n",
    "    'problem': {\n",
    "    'type': ProblemType.MAXIMIZATION,                           # MINIMIZATION, MAXIMIZATION\n",
    "    'values': [0, 1],\n",
    "    'costs': [100, 350, 200, 90, 500, 250, 220, 360, 150, 700, 400, 230, 550],\n",
    "    'weights': [50, 90, 30, 40, 100, 70, 20, 80, 80, 90, 50, 30, 70],\n",
    "    'cargo': 600\n",
    "    },\n",
    "    'selection': {\n",
    "        'strategy': SelectionStrategy.ROULETTE,               # ROULETTE, TOURNAMENT_BATTLE_ROYALE, or TOURNAMENT_PLAYOFF\n",
    "    },\n",
    "    'reproduction': {\n",
    "        'strategy': ReproductionStrategy.SEXUAL_SINGLE_POINT,   # ASEXUAL, SEXUAL_SINGLE_POINT, SEXUAL_DOUBLE_POINTS\n",
    "        'rate': 0.4\n",
    "    },\n",
    "    'mutation': {\n",
    "        'strategy': MutationStrategy.SEQUENCE_SWAP,                      # FLIP, SWAP, SEQUENCE_SWAP\n",
    "        'rate': 0.1\n",
    "    },\n",
    "    'generation': {\n",
    "        'strategy': GenerationStrategy.EXCHANGE,                # EXCHANGE, ELITISM, STEADY_STATE\n",
    "        'population_size': 25,\n",
    "    },\n",
    "    'stop_criteria': {\n",
    "        'num_generations': 100,                                 # Used only on MAX_GENERATIONS and STEADY_PERIOD\n",
    "        'type': StopCriteriaType.MAX_GENERATIONS                 # MAX_GENERATIONS, MAX_FITNESS, CONVERGENCE, STEADY_PERIOD\n",
    "        }\n",
    "})\n",
    "\n",
    "generationsResult = GeneticAlgorithmFacade(config).execute()\n",
    "\n",
    "plot_fitness(generationsResult)"
   ]
  },
  {
   "cell_type": "markdown",
   "metadata": {},
   "source": [
    "### 3.2.2. Problema da mochila. Como levar o máximo de valores dentro do peso suportado pela mochila?"
   ]
  },
  {
   "cell_type": "markdown",
   "metadata": {},
   "source": [
    "Para este problema, foi imaginado a situação tradicional de uma mochila, mostrando como seria a modelagem e otimização."
   ]
  },
  {
   "cell_type": "code",
   "execution_count": 28,
   "metadata": {},
   "outputs": [
    {
     "name": "stdout",
     "output_type": "stream",
     "text": [
      "Processing ...generating file1.txt for graphics and file2.txt for detailed population generations\n",
      "[1, 1, 1, 0, 0, 0] 12\n",
      "[1, 1, 1, 0, 0, 0] 12\n",
      "[1, 1, 1, 0, 0, 0] 12\n",
      "[1, 0, 0, 1, 1, 0] 22\n",
      "[1, 0, 0, 1, 1, 0] 22\n",
      "[1, 0, 0, 1, 1, 0] 22\n",
      "[1, 0, 0, 1, 1, 0] 22\n",
      "[1, 0, 0, 1, 1, 0] 22\n",
      "[1, 0, 0, 1, 1, 0] 22\n",
      "[1, 0, 0, 1, 1, 0] 22\n",
      "[1, 0, 0, 1, 1, 0] 22\n",
      "[1, 0, 0, 1, 1, 0] 22\n",
      "[1, 0, 0, 1, 1, 0] 22\n",
      "\n",
      "Best choice: \n",
      "[1, 0, 0, 1, 1, 0] - Fitness: 22 - Cost: 22 - Cargo: 19 - Generations at stop criteria: 13\n"
     ]
    },
    {
     "data": {
      "image/png": "[encoded data removed]",
      "text/plain": [
       "<Figure size 432x288 with 1 Axes>"
      ]
     },
     "metadata": {
      "needs_background": "light"
     },
     "output_type": "display_data"
    }
   ],
   "source": [
    "# Caso 2: Knapsack problem\n",
    "\n",
    "# Knapsack maximum capabilityKnapsack\n",
    "maxWeight=20\n",
    "\n",
    "# Product List for Knapsack\n",
    "\n",
    "config = Config({\n",
    "    'problem': {\n",
    "    'type': ProblemType.MAXIMIZATION,                           # MINIMIZATION, MAXIMIZATION\n",
    "    'values': [0, 1],\n",
    "    'costs': [3, 5, 4, 9, 10, 6],\n",
    "    'weights': [7, 3, 8, 3, 9, 11],\n",
    "    'cargo': 20\n",
    "    },\n",
    "    'selection': {\n",
    "        'strategy': SelectionStrategy.ROULETTE                  # ROULETTE, TOURNAMENT_BATTLE_ROYALE, or TOURNAMENT_PLAYOFF\n",
    "    },\n",
    "    'reproduction': {\n",
    "        'strategy': ReproductionStrategy.SEXUAL_SINGLE_POINT,   # ASEXUAL, SEXUAL_SINGLE_POINT, SEXUAL_DOUBLE_POINTS\n",
    "        'rate': 0.4\n",
    "    },\n",
    "    'mutation': {\n",
    "        'strategy': MutationStrategy.SEQUENCE_SWAP,                      # FLIP, SWAP, SEQUENCE_SWAP\n",
    "        'rate': 0.1\n",
    "    },\n",
    "    'generation': {\n",
    "        'strategy': GenerationStrategy.EXCHANGE,               # EXCHANGE, ELITISM, STEADY_STATE\n",
    "        'population_size': 4,\n",
    "    },\n",
    "    'stop_criteria': {\n",
    "        #'fitness': 0, #Used only on MAX_FITNESS\n",
    "        'num_generations': 10,                              #Used only on MAX_GENERATIONS and STEADY_PERIOD\n",
    "        'type': StopCriteriaType.STEADY_PERIOD             # MAX_GENERATIONS, MAX_FITNESS, CONVERGENCE, STEADY_PERIOD\n",
    "        }\n",
    "})\n",
    "\n",
    "generationsResult = GeneticAlgorithmFacade(config).execute()\n",
    "\n",
    "plot_fitness(generationsResult)"
   ]
  },
  {
   "cell_type": "markdown",
   "metadata": {},
   "source": [
    "## 4.3 Avaliação de Desempenho"
   ]
  },
  {
   "cell_type": "markdown",
   "metadata": {},
   "source": [
    "### 3.3.1 Tabela de Estratégias do Algoritmo Genético"
   ]
  },
  {
   "cell_type": "markdown",
   "metadata": {},
   "source": [
    "|Notação|Estratégia|Tipo|Descrição|\n",
    "|-------|--------|----|-----------|\n",
    "|P1|Problem|MAXIMIZATION|Usado quando o objetivo do problema é otimizar para o máximo *fitness* possível|\n",
    "|P2|Problem|MINIMIZATION|Usado quando o objetivo do problema é otimizar para o mínimo *fitness* possível|\n",
    "|S1|Selection|TOURNAMENT_BATTLE_ROYALE|Torneio com toda a população, onde todos batalham contra o melhor indivíduo|\n",
    "|S2|Selection|ROULETTE|Seleciona individuais aleatoriamente, fornecendo chances de reprodução ao *fittest*|\n",
    "|S3|Selection|TOURNAMENT_PLAYOFF|Torneio com toda a população, onde todos batalham um contra um, em formato de *playoff* usando divisão e conquista|\n",
    "|R1|Reproduction|ASEXUAL|Duplicação de cromossomos|\n",
    "|R2|Reproduction|SEXUAL_SINGLE_POINT|Apenas um ponto de crossover|\n",
    "|R3|Reproduction|SEXUAL_DOUBLE_POINTS|Dois pontos de crossover|\n",
    "|M1|Mutation|FLIP|Muda o valor dos alelos de acordo com a taxa de mutação|\n",
    "|M2|Mutation|SWAP|Dois alelos aleatórios se trocam de posição|\n",
    "|M3|Mutation|SEQUENCE_SWAP|Um conjunto de alelos no cromossomos muda de ordem|\n",
    "|G1|Generation|EXCHANGE|A população gerada substitui totalmente a anterior|\n",
    "|G2|Generation|ELITISM|A população gerada substitui a anterior, com apenas o fittest da anterior|\n",
    "|G3|Generation|STEADY_STATE|M <N individuais são gerados e o M substitui o pior M da população como um todo|\n",
    "|X1|Stop Criteria|MAX_GENERATIONS|Parada por um determinado número de gerações|\n",
    "|X2|Stop Criteria|MAX_FITNESS|Parada por um determinado fitness, usado quando já se sabe a resposta de solução do problema|\n",
    "|X3|Stop Criteria|CONVERGENCE|Parada no período de estabilidade ou convergência, dado um quorum de indivíduos com o mesmo *fitness*|\n",
    "|X4|Stop Criteria|STEADY_PERIOD|Parada no período de estabilidade ou convergência, por um determinado número de gerações|"
   ]
  },
  {
   "cell_type": "markdown",
   "metadata": {},
   "source": [
    "### 3.3.2 Abreviações"
   ]
  },
  {
   "cell_type": "markdown",
   "metadata": {},
   "source": [
    "|Abreviação|Significado|\n",
    "|----------|-----------|\n",
    "|MW|Capacidade em peso de um Objeto (maxWeight)|\n",
    "|RR|Taxa de reprodução (Reproduction Rate or Crossover rate)|\n",
    "|MR|Taxa de mutação (mutation rate)|\n",
    "|PS|Tamanho da população inicial em número de cromossomos (population_size)|\n",
    "|NG|Número de gerações dentro do período de estabilidade para critério de parada (num_generations)|"
   ]
  },
  {
   "cell_type": "markdown",
   "metadata": {},
   "source": [
    "### 3.3.3 Experimentos"
   ]
  },
  {
   "cell_type": "markdown",
   "metadata": {},
   "source": [
    "<p>Algumas considerações para a tabela abaixo:</p>\n",
    "<li>Parâmetros de entrada: MW, RR, MR, PS, NG e estratégias Pi, Si, Ri, Mi, Gi, X4</li>\n",
    "<li>Campos de Saída da execução: Fitness, Valor, Peso, Stop (Parada)</li>\n",
    "<li>Critério de parada (Stop criteria): Número de contagem (NG) foi atingido no período de estabilidade (não há grandes variações do valor de fitness dentro deste período). </li>\n",
    "<li>Convergência prematura é se o número de gerações coincide ou ultrapassa em 10-20% o número de contagem NG</li>\n",
    "<li>Overfit é se durante o período de estabilidade, o valor do fitness não se alterou</li>\n",
    "<li>Não foi realizado testes com parâmetros MINIMIZATION, MAX_FITNESS, CONVERGENCE porque ainda necessitam melhorar a implementação.</li>"
   ]
  },
  {
   "cell_type": "markdown",
   "metadata": {},
   "source": [
    "|Caso de Uso|MW|RR|MR|PS|NG|Estratégia|Fitness|Valor  |Peso   |Stop (Parada)|Comentário|\n",
    "|---------------|--|--|--|--|--|----------|-------|-------|-------|-------------|----------|\n",
    "|Carreto (UC011)|600|80%|20%|25|10|P1, S1, R2, M3, G1, X4|3090|3090|510|14|Convergência não prematura|\n",
    "|Carreto (UC012)|600|40%|10%|25|10|P1, S1, R2, M3, G1, X4|3310|3310|530|13|Convergência não prematura|\n",
    "|Carreto (UC013)|600|80%|20%|25|10|P1, S3, R1, M3, G2, X4|3210|3210|560|13|Convergência não prematura|\n",
    "|Carreto (UC014)|600|80%|20%|25|10|P1, S2, R3, M3, G1, X4|3190|3190|600|20|Convergência não prematura|\n",
    "|Carreto (UC015)|600|80%|20%|25|10|P1, S2, R3, M1, G2, X4|3510|3510|600|12|Convergência prematura|\n",
    "|Carreto (UC016)|600|40%|10%|25|10|P1, S2, R2, M3, G1, X4|3600|3600|600|20|Convergência não prematura, best fit|\n",
    "|Carreto (UC017)|600|40%|10%|25|100|P1, S2, R2, M3, G1, X1|3600|3600|600|100|Convergência não prematura, best fit|\n",
    "|---------------|---|---|---|--|--|-----------------------|----|----|---|--|--------------------------|\n",
    "|Mochila (UC021)|20|80%|20%|4|10|P1, S1, R2, M3, G1, X4|24|24|15|18|Convergência não prematura, best fit|\n",
    "|Mochila (UC022)|20|40%|10%|4|10|P1, S1, R2, M3, G1, X4|24|24|15|14|Convergência não prematura, best fit|\n",
    "|Mochila (UC023)|20|80%|20%|40|10|P1, S2, R3, M3, G1, X4|24|24|15|11|Convergência prematura|\n",
    "|Mochila (UC024)|20|80%|20%|4|10|P1, S2, R3, M3, G1, X4|19|19|20|14|Convergência não prematura|\n",
    "|Mochila (UC025)|20|80%|20%|4|10|P1, S2, R3, M1, G2, X4|18|18|14|12|Convergência prematura, overfit|\n",
    "|Mochila (UC026)|20|40%|10%|4|10|P1, S2, R2, M3, G1, X4|22|22|19|13|Convergência não prematura|\n",
    "|Mochila (UC027)|20|40%|10%|4|100|P1, S2, R2, M3, G1, X1|24|24|15|100|Convergência não prematura, best fit|"
   ]
  },
  {
   "cell_type": "markdown",
   "metadata": {},
   "source": [
    "# 4. Conclusão\n",
    "<p>A convergência, se prematura ou não, do valor do fitness depende de combinações das estratégias dos casos de uso. Valores ótimos do fitness também depende de combinações das estratégias usadas. <p>\n",
    "<p>A estratégia de seleção por roleta acaba não convergindo se toda a população for trocada a cada geração, precisando de pelo menos um indivíduo com melhor <i>fitness</i> para convergir adequadamente. No caso da seleção por torneio, como os melhores indivíduos já são escolhidos nela o critério para a geração da população se torna irrelevante para a convergência.<p>\n",
    "<p>Em certos casos, o melhor indivíduo foi gerado em gerações anteriores a final, pois ele próprio pode sofrer uma mutação e piorar seu <i>score</i> de <i>fitness</i>, sendo ideal sempre armazenar o melhor indivíduo para não perder sua informação.</p>\n",
    "<p>A melhor combinação é aquela que obtém o melhor <i>score</i> de <i>fitness</i> e dentro do peso máximo,  uma forma de também observar isso é verificar se o máximo de alelos do cromossomos estão preenchidos, como observado no exemplo de cargo com UC016 e UC017, onde a combinação [0, 1, 1, 1, 1, 0, 1, 1, 0, 1, 1, 1, 1] atingiu o melhor resultado com fitness 3600 e dentro do peso de 600, ou seja atingiu o <i>best fit</i>. Caso a estratégia de parada fosse mudada de X4 para X1 (UC017), todos os casos poderiam atingir a melhor combinação, mas em troca de uma menor performance(100 contra 20 gerações), uma vez que seriam utilizadas um número menos otimizado (100 gerações) para obter maior precisão. No caso da mochila, o best fit foi obtido com a estratégia X4 (UC027), mas com X1 (UC026), isto não ocorreu.<p>\n",
    "<p>No caso do problema das cargas para um caminhão, que tem cromossomo com bastante alelos e uma população inicial grande de 25, a diminuição da taxa de reprodução e mutação pela metade (vide UC011 e UC012), o valor do fitness até melhora. No caso do problema da mochila, não há uma alteração significativa (vide UC021 e UC022), já que em ambos os casos foram atingidos o best fit. <p>"
   ]
  },
  {
   "cell_type": "markdown",
   "metadata": {},
   "source": [
    "# 5. Referências\n",
    "<ol>\n",
    "<li>https://pt.wikipedia.org/wiki/Problema_da_mochila</li>\n",
    "<li>https://www.youtube.com/watch?v=9kbzMeEBvUY</li>\n",
    "    <li>https://github.com/edbkei/MO416PROJ2/tree/master/Project2</li>\n",
    "</ol>"
   ]
  },
  {
   "cell_type": "markdown",
   "metadata": {},
   "source": [
    "# 6. One Page Presentation"
   ]
  },
  {
   "cell_type": "code",
   "execution_count": 3,
   "metadata": {},
   "outputs": [],
   "source": [
    "import os\n",
    "os.startfile('knapsackProblemOnePage.pdf')"
   ]
  },
  {
   "cell_type": "markdown",
   "metadata": {},
   "source": [
    "# 7. Informação de versões\n",
    "### v1.0 Versão de entrega. Os alunos atuaram atuaram na elaboração do relatório no Jupyter notebok, modelamento e algoritmos de forma conjunta. Thales um pouco mais focado nos algoritmos e Eduardo um pouco mais focado na elaboração do relatório e modelamento."
   ]
  }
 ],
 "metadata": {
  "kernelspec": {
   "display_name": "Python 3",
   "language": "python",
   "name": "python3"
  },
  "language_info": {
   "codemirror_mode": {
    "name": "ipython",
    "version": 3
   },
   "file_extension": ".py",
   "mimetype": "text/x-python",
   "name": "python",
   "nbconvert_exporter": "python",
   "pygments_lexer": "ipython3",
   "version": "3.7.3"
  }
 },
 "nbformat": 4,
 "nbformat_minor": 4
}
