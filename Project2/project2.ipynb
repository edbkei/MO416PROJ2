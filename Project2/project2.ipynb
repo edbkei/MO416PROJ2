{
 "cells": [
  {
   "cell_type": "code",
   "execution_count": 1,
   "metadata": {},
   "outputs": [
    {
     "data": {
      "text/html": [
       "<h3>Student: Eduardo S. Ito (RA 159086)</h3>"
      ],
      "text/plain": [
       "<IPython.core.display.HTML object>"
      ]
     },
     "metadata": {},
     "output_type": "display_data"
    },
    {
     "data": {
      "text/html": [
       "<h3>Student: Thales E. Nazatto (RA 074388)</h3>"
      ],
      "text/plain": [
       "<IPython.core.display.HTML object>"
      ]
     },
     "metadata": {},
     "output_type": "display_data"
    },
    {
     "data": {
      "text/html": [
       "<h1>Project 2: Evolutionary Computing</h1>"
      ],
      "text/plain": [
       "<IPython.core.display.HTML object>"
      ]
     },
     "metadata": {},
     "output_type": "display_data"
    }
   ],
   "source": [
    "import numpy as np\n",
    "from IPython.core.display import display, HTML\n",
    "import tabulate\n",
    "display(HTML('<h3>Student: Eduardo S. Ito (RA 159086)</h3>'))\n",
    "display(HTML('<h3>Student: Thales E. Nazatto (RA 074388)</h3>'))\n",
    "display(HTML('<h1>Project 2: Evolutionary Computing</h1>'))\n",
    "from PIL import Image\n",
    "import os\n",
    "os.startfile('p2.pdf')"
   ]
  },
  {
   "cell_type": "code",
   "execution_count": 2,
   "metadata": {},
   "outputs": [
    {
     "data": {
      "text/html": [
       "<h2>Initial abstraction</h2>"
      ],
      "text/plain": [
       "<IPython.core.display.HTML object>"
      ]
     },
     "metadata": {},
     "output_type": "display_data"
    },
    {
     "data": {
      "text/html": [
       "<h3>Objective Function. </h3>"
      ],
      "text/plain": [
       "<IPython.core.display.HTML object>"
      ]
     },
     "metadata": {},
     "output_type": "display_data"
    },
    {
     "data": {
      "text/html": [
       "<p>The objective function is to fill up knapsack with more valuable products, respecting established maximum              weight. Each product has weight and value. The aim is to optimize the filling up of knapsack with more               value products and within the maximum weight, as precondition.</p>"
      ],
      "text/plain": [
       "<IPython.core.display.HTML object>"
      ]
     },
     "metadata": {},
     "output_type": "display_data"
    },
    {
     "data": {
      "image/png": "[encoded data removed]",
      "text/plain": [
       "<PIL.PngImagePlugin.PngImageFile image mode=RGBA size=608x462 at 0x22D7A6CA6D8>"
      ]
     },
     "metadata": {},
     "output_type": "display_data"
    },
    {
     "data": {
      "text/html": [
       "<h3>Stop criteria. </h3>"
      ],
      "text/plain": [
       "<IPython.core.display.HTML object>"
      ]
     },
     "metadata": {},
     "output_type": "display_data"
    },
    {
     "data": {
      "text/html": [
       "<p>The Stop Criteria is reached when maximum value of filled knapsack within maximum weight,                  during 3 interactions</p>"
      ],
      "text/plain": [
       "<IPython.core.display.HTML object>"
      ]
     },
     "metadata": {},
     "output_type": "display_data"
    },
    {
     "data": {
      "text/html": [
       "<h3>References </h3>"
      ],
      "text/plain": [
       "<IPython.core.display.HTML object>"
      ]
     },
     "metadata": {},
     "output_type": "display_data"
    },
    {
     "data": {
      "text/html": [
       "<p>https://www.youtube.com/watch?v=9kbzMeEBvUY</p>"
      ],
      "text/plain": [
       "<IPython.core.display.HTML object>"
      ]
     },
     "metadata": {},
     "output_type": "display_data"
    }
   ],
   "source": [
    "from IPython.core.display import display, HTML\n",
    "import tabulate\n",
    "display(HTML('<h2>Initial abstraction</h2>'))\n",
    "from PIL import Image\n",
    "path=\"abstraction.png\"\n",
    "display(HTML('<h3>Objective Function. </h3>'))\n",
    "display(HTML('<p>The objective function is to fill up knapsack with more valuable products, respecting established maximum\\\n",
    "              weight. Each product has weight and value. The aim is to optimize the filling up of knapsack with more \\\n",
    "              value products and within the maximum weight, as precondition.</p>'))\n",
    "display(Image.open(path))\n",
    "display(HTML('<h3>Stop criteria. </h3>'))\n",
    "display(HTML('<p>The Stop Criteria is reached when maximum value of filled knapsack within maximum weight, \\\n",
    "                 during 3 interactions</p>'))\n",
    "display(HTML('<h3>References </h3>'))\n",
    "display(HTML('<p>https://www.youtube.com/watch?v=9kbzMeEBvUY</p>'))"
   ]
  },
  {
   "cell_type": "code",
   "execution_count": 5,
   "metadata": {},
   "outputs": [],
   "source": [
    "import random\n",
    "\n",
    "def generate_population(size):\n",
    "    population = []\n",
    "\n",
    "    for i in range(0, size):\n",
    "        while True:\n",
    "            pop = random.choices([0, 1], k=11)\n",
    "            print(pop, \"Result:\", apply_costs(pop), \"Cargo:\", apply_weights(pop))\n",
    "            if apply_weights(pop) > cargo:\n",
    "                print(\"Discarded\")\n",
    "            else:\n",
    "                break\n",
    "\n",
    "        population.append(pop)\n",
    "    return population\n",
    "\n",
    "def apply_costs(individual):\n",
    "    cost = 0\n",
    "\n",
    "    for i in range(0, len(individual)):\n",
    "        cost += individual[i]*costs[i]\n",
    "\n",
    "    return cost\n",
    "\n",
    "def mean_costs(population):\n",
    "    total = 0\n",
    "\n",
    "    for i in range(0, len(population)):\n",
    "        total += apply_costs(population[i])\n",
    "\n",
    "    return total / len(population)\n",
    "\n",
    "def apply_weights(individual):\n",
    "    weight = 0\n",
    "\n",
    "    for i in range(0, len(individual)):\n",
    "        weight += individual[i] * weights[i]\n",
    "\n",
    "    return weight\n",
    "\n",
    "\n",
    "def choice_by_roulette(sorted_population):\n",
    "    fitness_sum = sum(apply_costs(individual) for individual in sorted_population)\n",
    "    draw = random.uniform(0, 1)\n",
    "\n",
    "    accumulated = 0\n",
    "    for individual in sorted_population:\n",
    "        fitness = apply_costs(individual)\n",
    "        probability = fitness / fitness_sum\n",
    "        accumulated += probability\n",
    "\n",
    "        if draw <= accumulated:\n",
    "            return individual\n",
    "\n",
    "    print(draw, accumulated)\n",
    "\n",
    "def do_tournament(tournament):\n",
    "    best = None\n",
    "    for i in range(0,len(tournament)):\n",
    "        ind = tournament[random.randint(0,len(tournament) - 1)]\n",
    "        if (best == None) or apply_costs(ind) > apply_costs(best):\n",
    "            best = ind\n",
    "\n",
    "    return best\n",
    "\n",
    "def roulette_pick(population):\n",
    "    roulette = population[:]\n",
    "\n",
    "    best = choice_by_roulette(roulette)\n",
    "    second = choice_by_roulette(roulette)\n",
    "\n",
    "    return best, second\n",
    "\n",
    "\n",
    "def tournament_pick(population):\n",
    "    tournament = population[:]\n",
    "\n",
    "    best = do_tournament(tournament)\n",
    "\n",
    "    tournament.remove(best)\n",
    "    second = do_tournament(tournament)\n",
    "\n",
    "    return best, second\n",
    "\n",
    "def selection(population):\n",
    "    return tournament_pick(population) if tournament else roulette_pick(population)\n",
    "\n",
    "def sort_population_by_fitness(population):\n",
    "    return sorted(population, key=apply_costs)\n",
    "\n",
    "\n",
    "def crossover(individual_a, individual_b):\n",
    "    n = len(individual_a)\n",
    "    c = random.randint(0, n - 1)\n",
    "    return individual_a[0:c] + individual_b[c:n]\n",
    "\n",
    "\n",
    "def mutate(individual):\n",
    "    n = len(individual)\n",
    "    c = random.randint(0, n - 1)\n",
    "    m = random.randint(0, 1)\n",
    "    individual[c] = m\n",
    "    return individual\n",
    "\n",
    "\n",
    "def make_next_generation(previous_population):\n",
    "    next_generation = []\n",
    "    sorted_by_fitness_population = sort_population_by_fitness(previous_population)\n",
    "    population_size = len(previous_population)\n",
    "\n",
    "    if tournament:\n",
    "        selection = tournament_pick\n",
    "\n",
    "    while (len(next_generation) < population_size):\n",
    "        cross_prob = random.random()\n",
    "        mut_prob = random.random()\n",
    "        if cross_prob < crossover_probability:\n",
    "            first_choice, second_choice = selection(sorted_by_fitness_population)\n",
    "\n",
    "            individual = crossover(first_choice, second_choice)\n",
    "        else:\n",
    "            individual = choice_by_roulette(sorted_by_fitness_population)\n",
    "\n",
    "        if mut_prob < mutation_probability:\n",
    "            individual = mutate(individual)\n",
    "\n",
    "        if apply_weights(individual) > cargo:\n",
    "            print(individual, \"discarded because\", apply_weights(individual), \">\", cargo)\n",
    "        else:\n",
    "            next_generation.append(individual)\n",
    "\n",
    "    if elitism:\n",
    "        if len(previous_population) == len(next_generation):\n",
    "            next_generation.append(previous_population[0])\n",
    "        else:\n",
    "            individual_to_swap = sort_population_by_fitness(next_generation)[0]\n",
    "\n",
    "            for i in range(0, len(next_generation)):\n",
    "                if individual_to_swap == next_generation[i]:\n",
    "                    next_generation[i] = previous_population[0]\n",
    "\n",
    "    return next_generation\n",
    "\n",
    "def run_case():\n",
    "    population = generate_population(population_size)\n",
    "\n",
    "    i = 1\n",
    "    while True:\n",
    "        print(f\"Generation {i}\")\n",
    "\n",
    "        for individual in population:\n",
    "            print(individual, \"Result:\", apply_costs(individual), \"Cargo:\", apply_weights(individual))\n",
    "\n",
    "        best_fitness = apply_costs(sort_population_by_fitness(population)[-1])\n",
    "        worst_fitness = apply_costs(sort_population_by_fitness(population)[0])\n",
    "        mean_fitness = mean_costs(population)\n",
    "\n",
    "        print()\n",
    "        print(\"Best:\", best_fitness, \"Mean:\", mean_fitness, \"Worst:\", worst_fitness)\n",
    "        print()\n",
    "\n",
    "        if i == generations:\n",
    "            break\n",
    "\n",
    "        i += 1\n",
    "\n",
    "        population = make_next_generation(population)\n",
    "\n",
    "    best_individual = sort_population_by_fitness(population)[-1]\n",
    "    print(\"\\nBest choice: \")\n",
    "    print(best_individual, \"Result:\", apply_costs(best_individual), \"Cargo:\", apply_weights(best_individual))"
   ]
  },
  {
   "cell_type": "code",
   "execution_count": 7,
   "metadata": {},
   "outputs": [
    {
     "ename": "ValueError",
     "evalue": "too many values to unpack (expected 2)",
     "output_type": "error",
     "traceback": [
      "\u001b[1;31m---------------------------------------------------------------------------\u001b[0m",
      "\u001b[1;31mValueError\u001b[0m                                Traceback (most recent call last)",
      "\u001b[1;32m<ipython-input-7-e540d05052a7>\u001b[0m in \u001b[0;36m<module>\u001b[1;34m\u001b[0m\n\u001b[0;32m      1\u001b[0m \u001b[1;31m# Configuration 1: Cargo case\u001b[0m\u001b[1;33m\u001b[0m\u001b[1;33m\u001b[0m\u001b[1;33m\u001b[0m\u001b[0m\n\u001b[0;32m      2\u001b[0m \u001b[1;31m#Problem variables\u001b[0m\u001b[1;33m\u001b[0m\u001b[1;33m\u001b[0m\u001b[1;33m\u001b[0m\u001b[0m\n\u001b[1;32m----> 3\u001b[1;33m \u001b[0ma\u001b[0m\u001b[1;33m,\u001b[0m\u001b[0mcosts\u001b[0m \u001b[1;33m=\u001b[0m \u001b[1;33m[\u001b[0m\u001b[1;36m100\u001b[0m\u001b[1;33m,\u001b[0m \u001b[1;36m350\u001b[0m\u001b[1;33m,\u001b[0m \u001b[1;36m200\u001b[0m\u001b[1;33m,\u001b[0m \u001b[1;36m90\u001b[0m\u001b[1;33m,\u001b[0m \u001b[1;36m500\u001b[0m\u001b[1;33m,\u001b[0m \u001b[1;36m250\u001b[0m\u001b[1;33m,\u001b[0m \u001b[1;36m220\u001b[0m\u001b[1;33m,\u001b[0m \u001b[1;36m360\u001b[0m\u001b[1;33m,\u001b[0m \u001b[1;36m150\u001b[0m\u001b[1;33m,\u001b[0m \u001b[1;36m700\u001b[0m\u001b[1;33m,\u001b[0m \u001b[1;36m400\u001b[0m\u001b[1;33m]\u001b[0m\u001b[1;33m\u001b[0m\u001b[1;33m\u001b[0m\u001b[0m\n\u001b[0m\u001b[0;32m      4\u001b[0m \u001b[0mb\u001b[0m\u001b[1;33m,\u001b[0m\u001b[0mweights\u001b[0m \u001b[1;33m=\u001b[0m \u001b[1;33m[\u001b[0m\u001b[1;36m50\u001b[0m\u001b[1;33m,\u001b[0m \u001b[1;36m90\u001b[0m\u001b[1;33m,\u001b[0m \u001b[1;36m30\u001b[0m\u001b[1;33m,\u001b[0m \u001b[1;36m40\u001b[0m\u001b[1;33m,\u001b[0m \u001b[1;36m100\u001b[0m\u001b[1;33m,\u001b[0m \u001b[1;36m70\u001b[0m\u001b[1;33m,\u001b[0m \u001b[1;36m20\u001b[0m\u001b[1;33m,\u001b[0m \u001b[1;36m80\u001b[0m\u001b[1;33m,\u001b[0m \u001b[1;36m80\u001b[0m\u001b[1;33m,\u001b[0m \u001b[1;36m90\u001b[0m\u001b[1;33m,\u001b[0m \u001b[1;36m50\u001b[0m\u001b[1;33m]\u001b[0m\u001b[1;33m\u001b[0m\u001b[1;33m\u001b[0m\u001b[0m\n\u001b[0;32m      5\u001b[0m \u001b[0mc\u001b[0m\u001b[1;33m,\u001b[0m\u001b[0mcargo\u001b[0m \u001b[1;33m=\u001b[0m \u001b[1;36m500\u001b[0m\u001b[1;33m\u001b[0m\u001b[1;33m\u001b[0m\u001b[0m\n",
      "\u001b[1;31mValueError\u001b[0m: too many values to unpack (expected 2)"
     ]
    }
   ],
   "source": [
    "# Configuration 1: Cargo case\n",
    "#Problem variables\n",
    "costs = [100, 350, 200, 90, 500, 250, 220, 360, 150, 700, 400]\n",
    "weights = [50, 90, 30, 40, 100, 70, 20, 80, 80, 90, 50]\n",
    "cargo = 500\n",
    "\n",
    "#GA variables\n",
    "generations = 100\n",
    "population_size = 100\n",
    "crossover_probability = 0.8\n",
    "mutation_probability = 0.2\n",
    "tournament = True\n",
    "elitism = True\n",
    "run_case(costs, weigths, cargo, generations,population_size, crossover_probability, \\\n",
    "        mutation_probability, tournament, elitism)"
   ]
  },
  {
   "cell_type": "code",
   "execution_count": null,
   "metadata": {},
   "outputs": [],
   "source": [
    "# Configuration 2: Knapsack problem\n",
    "#Problem variables\n",
    "costs = [100, 350, 200, 90, 500, 250, 220, 360, 150, 700, 400]\n",
    "weights = [50, 90, 30, 40, 100, 70, 20, 80, 80, 90, 50]\n",
    "cargo = 500\n",
    "\n",
    "#GA variables\n",
    "generations = 100\n",
    "population_size = 100\n",
    "crossover_probability = 0.8\n",
    "mutation_probability = 0.2\n",
    "tournament = True\n",
    "elitism = True\n",
    "run_case(costs, weigths, cargo, generations,population_size, crossover_probability, \\\n",
    "        mutation_probability, tournament, elitism)"
   ]
  }
 ],
 "metadata": {
  "kernelspec": {
   "display_name": "Python 3",
   "language": "python",
   "name": "python3"
  },
  "language_info": {
   "codemirror_mode": {
    "name": "ipython",
    "version": 3
   },
   "file_extension": ".py",
   "mimetype": "text/x-python",
   "name": "python",
   "nbconvert_exporter": "python",
   "pygments_lexer": "ipython3",
   "version": "3.7.3"
  }
 },
 "nbformat": 4,
 "nbformat_minor": 4
}
