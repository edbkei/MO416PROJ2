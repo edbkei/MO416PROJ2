{
 "cells": [
  {
   "cell_type": "code",
   "execution_count": 31,
   "metadata": {},
   "outputs": [
    {
     "data": {
      "text/html": [
       "<h3>Student: Eduardo S. Ito RA 159086</h3>"
      ],
      "text/plain": [
       "<IPython.core.display.HTML object>"
      ]
     },
     "metadata": {},
     "output_type": "display_data"
    },
    {
     "data": {
      "text/html": [
       "<h1>Project 2: Evolutionary Computing</h1>"
      ],
      "text/plain": [
       "<IPython.core.display.HTML object>"
      ]
     },
     "metadata": {},
     "output_type": "display_data"
    }
   ],
   "source": [
    "import numpy as np\n",
    "from IPython.core.display import display, HTML\n",
    "import tabulate\n",
    "display(HTML('<h3>Student: Eduardo S. Ito RA 159086</h3>'))\n",
    "display(HTML('<h1>Project 2: Evolutionary Computing</h1>'))\n",
    "from PIL import Image\n",
    "import os\n",
    "os.startfile('p2.pdf')"
   ]
  },
  {
   "cell_type": "code",
   "execution_count": 9,
   "metadata": {},
   "outputs": [
    {
     "data": {
      "text/html": [
       "<h2>Initial abstraction</h2>"
      ],
      "text/plain": [
       "<IPython.core.display.HTML object>"
      ]
     },
     "metadata": {},
     "output_type": "display_data"
    },
    {
     "data": {
      "text/html": [
       "<h3>Objective Function. </h3>"
      ],
      "text/plain": [
       "<IPython.core.display.HTML object>"
      ]
     },
     "metadata": {},
     "output_type": "display_data"
    },
    {
     "data": {
      "text/html": [
       "<p>The objective function is to fill up knapsack with more valuable products, respecting established maximum              weight. Each product has weight and value. The aim is to optimize the filling up of knapsack with more               value products and within the maximum weight, as precondition.</p>"
      ],
      "text/plain": [
       "<IPython.core.display.HTML object>"
      ]
     },
     "metadata": {},
     "output_type": "display_data"
    },
    {
     "data": {
      "image/png": "[encoded data removed]",
      "text/plain": [
       "<PIL.PngImagePlugin.PngImageFile image mode=RGBA size=608x462 at 0x1757F5786D8>"
      ]
     },
     "metadata": {},
     "output_type": "display_data"
    },
    {
     "data": {
      "text/html": [
       "<h3>Stop criteria. </h3>"
      ],
      "text/plain": [
       "<IPython.core.display.HTML object>"
      ]
     },
     "metadata": {},
     "output_type": "display_data"
    },
    {
     "data": {
      "text/html": [
       "<p>The Stop Criteria is reached when maximum value of filled knapsack within maximum weight,                  during 3 interactions</p>"
      ],
      "text/plain": [
       "<IPython.core.display.HTML object>"
      ]
     },
     "metadata": {},
     "output_type": "display_data"
    },
    {
     "data": {
      "text/html": [
       "<h3>References </h3>"
      ],
      "text/plain": [
       "<IPython.core.display.HTML object>"
      ]
     },
     "metadata": {},
     "output_type": "display_data"
    },
    {
     "data": {
      "text/html": [
       "<p>https://www.youtube.com/watch?v=9kbzMeEBvUY</p>"
      ],
      "text/plain": [
       "<IPython.core.display.HTML object>"
      ]
     },
     "metadata": {},
     "output_type": "display_data"
    }
   ],
   "source": [
    "from IPython.core.display import display, HTML\n",
    "import tabulate\n",
    "display(HTML('<h2>Initial abstraction</h2>'))\n",
    "from PIL import Image\n",
    "path=\"abstraction.png\"\n",
    "display(HTML('<h3>Objective Function. </h3>'))\n",
    "display(HTML('<p>The objective function is to fill up knapsack with more valuable products, respecting established maximum\\\n",
    "              weight. Each product has weight and value. The aim is to optimize the filling up of knapsack with more \\\n",
    "              value products and within the maximum weight, as precondition.</p>'))\n",
    "display(Image.open(path))\n",
    "display(HTML('<h3>Stop criteria. </h3>'))\n",
    "display(HTML('<p>The Stop Criteria is reached when maximum value of filled knapsack within maximum weight, \\\n",
    "                 during 3 interactions</p>'))\n",
    "display(HTML('<h3>References </h3>'))\n",
    "display(HTML('<p>https://www.youtube.com/watch?v=9kbzMeEBvUY</p>'))"
   ]
  },
  {
   "cell_type": "code",
   "execution_count": 80,
   "metadata": {},
   "outputs": [],
   "source": [
    "# solution is based on  https://www.researchgate.net/publication/255994405_Genetic_Algorithm_for_Solving_Simple_Mathematical_Equality_Problem\n",
    "\n",
    "import random\n",
    "import collections\n",
    "import numpy as np\n",
    "\n",
    "# Knapsack maximum capabilityKnapsack\n",
    "maxWeight=20\n",
    "\n",
    "# Product List for Knapsack\n",
    "popgen={1: [7, 3], 2: [3, 5], 3: [8, 4], 4: [3, 9], 5: [9, 10], 6: [11, 6] }\n",
    "\n",
    "# Step B- Define necessary functions\n",
    "def binvalue(arg):\n",
    "    n=len(arg)\n",
    "    s=0\n",
    "    k=1\n",
    "    for i in arg:\n",
    "        s=s+(2**k)*i\n",
    "        k=k+1\n",
    "    return s\n",
    "\n",
    "def weight(arg):\n",
    "    n=len(arg)\n",
    "    s=0\n",
    "    k=1\n",
    "    for i in arg:\n",
    "        x=popgen[k][0]\n",
    "        s=s+x*i\n",
    "        k=k+1\n",
    "    return s\n",
    "\n",
    "def reverse(arg):\n",
    "    n=len(arg)\n",
    "    s=0\n",
    "    k=1\n",
    "    s=[]\n",
    "    for i in reversed(arg):\n",
    "        s.append(i)\n",
    "        k=k+1\n",
    "    return s\n",
    "\n",
    "# Generate random populations whose parameters are (n, s) where n is the number of population, and s is the size of population\n",
    "def genpopulation(n):\n",
    "    s=len(popgen)\n",
    "    t=2**s-1 \n",
    "    population={}\n",
    "    i=1\n",
    "    while (i<=n):\n",
    "        pop=[]\n",
    "        x=int(random.randint(1,maxWeight))\n",
    "        y=[int(i) for i in np.binary_repr(x, s)]\n",
    "        pop=reverse(y)\n",
    "        check=binvalue(pop)\n",
    "        ok=0\n",
    "        for k in population:\n",
    "            a=weight(population[k])\n",
    "            if(a>maxWeight):\n",
    "                ok=1\n",
    "            x=binvalue(population[k])\n",
    "            if(check==x or check==0):\n",
    "                ok=1\n",
    "        if(ok==0):\n",
    "            population[i]=pop\n",
    "            i=i+1\n",
    "            \n",
    "    return population\n",
    "\n",
    "#define objective function\n",
    "def of(arg):\n",
    "    n=len(arg)\n",
    "    t={}\n",
    "    for i in arg:\n",
    "        s1=0\n",
    "        s2=0\n",
    "        k=1\n",
    "        print(\"\")\n",
    "        print(arg[i])\n",
    "        for j in arg[i]:\n",
    "            if(j==1):\n",
    "                s1=s1+popgen[k][0]\n",
    "                s2=s2+popgen[k][1]\n",
    "            k=k+1\n",
    "        t[i]=[s1, s2]\n",
    "        print(t[i])\n",
    "    \n",
    "    return t\n",
    "\n",
    "# Define sum function value\n",
    "def sumlist(arg):\n",
    "    n=len(arg)\n",
    "    s=0\n",
    "    for i in range(0,n):\n",
    "        s=s+arg[i]\n",
    "    return s\n",
    "\n",
    "def sum(arg):\n",
    "    s=0\n",
    "    for i in arg:\n",
    "        s=s+i\n",
    "    return s\n",
    "# Define Probability Distribution function \n",
    "def prob(arg):\n",
    "    p={}\n",
    "    total=sum(arg)\n",
    "    for i in arg:\n",
    "        p[i]=i/total\n",
    "    return p\n",
    "\n",
    "# Define Cumulative Probability function using roulette-wheel\n",
    "def cprob(arg):\n",
    "    c={}\n",
    "    s=0\n",
    "    for i in arg:\n",
    "        s=arg[i]+s\n",
    "        c[i]=s\n",
    "    return c\n",
    "\n",
    "# genereate cumulative fitness probabilities\n",
    "def gfitprob(n):\n",
    "    pre=[]\n",
    "    p={}\n",
    "    pc={}\n",
    "    for i in range(1, n+1):\n",
    "        x=random.random()\n",
    "        pre.append(x)\n",
    "    pre=sorted(pre)\n",
    "    j=1\n",
    "    for i in pre:\n",
    "        p[j]=i\n",
    "        j=j+1\n",
    "\n",
    "    return p\n",
    "\n",
    "#Select chromosomes\n",
    "def whichchrom(generatedfit,cumulativefit,chrome):\n",
    "    n=len(cumulativefit)\n",
    "    #print(\"whichchrom=\"+str(chrome))\n",
    "    j=1\n",
    "    k=1\n",
    "    l=1\n",
    "    previousk=0\n",
    "    index={}\n",
    "    newpopulation={}\n",
    "    during=0\n",
    "    previous=0\n",
    "    aux=0\n",
    "    \n",
    "    for i in range(1,n+1):\n",
    "        #print(i)\n",
    "        if(k>n): break\n",
    "        while((generatedfit[k]<=cumulativefit[i]) and (previous<generatedfit[k])):\n",
    "                index[k]=i\n",
    "                k=k+1\n",
    "                aux=1\n",
    "                if(k>n):\n",
    "                    break\n",
    "        if(aux!=0):\n",
    "            aux=0\n",
    "        previous=cumulativefit[i]\n",
    "        \n",
    "    \n",
    "        \n",
    "    for i in index:\n",
    "        #print(\"index=\"+str(index[i]))\n",
    "        newpopulation[i]=chrome[index[i]]\n",
    "    \n",
    "  \n",
    "    return newpopulation \n",
    "\n",
    "#Select population from crossover\n",
    "def selectpopulationforcrossover(population,cross_rate):\n",
    "    n=len(population)\n",
    "    R={}\n",
    "\n",
    "    m=0\n",
    "    while(m<2):\n",
    "        selectedpopulation={}\n",
    "        k=1\n",
    "        while(k<n+1):\n",
    "             R[k]=random.random()\n",
    "             if(R[k]<cross_rate):\n",
    "                selectedpopulation[k]=population[k]\n",
    "             k=k+1\n",
    "             m=len(selectedpopulation)\n",
    "    return selectedpopulation\n",
    "\n",
    "\n",
    "# apply crossover (or reproduction) on two chromosomes\n",
    "def crossover(chromo1,chromo2,position):\n",
    "    for i in range(0,position):\n",
    "        x=chromo1[i]\n",
    "        chromo2[i]=x\n",
    "    chromo = chromo2\n",
    "\n",
    "    return chromo\n",
    "\n",
    "#Apply crossover to the selected population\n",
    "def applycrossover(population):\n",
    "    n=len(population)\n",
    "    nb=5 # number of elements in chromosomes\n",
    "    newpopulation={}\n",
    "    C={}\n",
    "    m=int(n*(n-1)/2)\n",
    "    for i in range(1,m+1):\n",
    "        C[i]=random.randint(1,nb-1)\n",
    "    print('')\n",
    "    print(\"random number for position in chromosomes\")  \n",
    "    print(C)\n",
    "    print(\"\")\n",
    "    k=1\n",
    "        \n",
    "    for i in range(1,n+1):\n",
    "        for j in range(i+1,n+2):\n",
    "            #print(\"i=\"+str(i)+\"]=\"+str(i)+\" ,j=\"+str(j))\n",
    "            if((i in population) and (j in population)):     \n",
    "                   if(i in newpopulation):\n",
    "                      print(\"population[\"+str(j)+\"]=\"+str(population[j])+\",population[\"+str(i)+\"]=\"+str(population[i]))\n",
    "                      x=crossover(population[j],population[i],C[k])\n",
    "                      newpopulation[j]=x\n",
    "                      print(\"newpopulation[\"+str(j)+\"]=\"+str(x))\n",
    "                   else:\n",
    "                      print(\"population[\"+str(i)+\"]=\"+str(population[i])+\",population[\"+str(j)+\"]=\"+str(population[j]))\n",
    "                      x=crossover(population[i],population[j],C[k])\n",
    "                      newpopulation[i]=x\n",
    "                      print(\"newpopulation[\"+str(i)+\"]=\"+str(x))\n",
    "                   print(\"gene position for crossover(C)=\"+str(C[k]))\n",
    "                   print(\"\")\n",
    "                   k=k+1                \n",
    "\n",
    "    return newpopulation \n",
    "\n",
    "def mutation(population, rate):\n",
    "    n=len(population)\n",
    "    print(population)\n",
    "    nb=len(popgen) # number of elements in chromosomes\n",
    "    nab=n*nb # number of elements in all chromosomes\n",
    "    number_of_mutation=int(rate*nab)\n",
    "    newpopulation={}\n",
    "    C={}\n",
    "    for i in range(1,number_of_mutation+1):\n",
    "        x=random.randint(1,nab)\n",
    "        while(not(x in C)):\n",
    "            C[i]=x\n",
    "            x=random.randint(1,nab)\n",
    "    print('')\n",
    "    print(\"genes to be changed\")   \n",
    "    print(C)\n",
    "    print('')\n",
    "    k=0\n",
    "    for i in C:\n",
    "        j=int((C[i])/nb)\n",
    "        mod=C[i]%nb\n",
    "        if(mod==0):\n",
    "            k=j\n",
    "        else:\n",
    "            k=j+1\n",
    "        m=nb-(k*nb-C[i])-1\n",
    "        print(\"C[\"+str(i)+\"]=\"+str(C[i])+\",element position=\"+str(m))\n",
    "        pop=population[k]\n",
    "        mask1=0\n",
    "        mask2=0\n",
    "        aux=0\n",
    "        \n",
    "        gen=pop[m]\n",
    "        if(gen==1): gen=0\n",
    "        else: gen=1\n",
    "        print('gen='+str(gen)+',pop='+str(pop))\n",
    "        pop[m]=gen\n",
    "        aux=pop\n",
    "   \n",
    "        newpopulation[k]=aux   \n",
    "        print(\"population[\"+str(k)+\"]=\"+str(population[k]))\n",
    "        print('')\n",
    "  \n",
    "    return newpopulation "
   ]
  },
  {
   "cell_type": "code",
   "execution_count": 117,
   "metadata": {},
   "outputs": [
    {
     "name": "stdout",
     "output_type": "stream",
     "text": [
      "initial population\n",
      "Element represents a items of a product list (1..n). A product i=1 if included, and 0 otherwise.\n",
      "\n",
      "{1: [0, 0, 0, 1, 0, 0], 2: [1, 1, 1, 0, 0, 0], 3: [0, 1, 0, 0, 0, 0], 4: [0, 0, 0, 0, 1, 0]}\n"
     ]
    }
   ],
   "source": [
    "#STEP1. Initialization - Initial population\n",
    "chrom=genpopulation(4) # generate n chromosomes in a population\n",
    "print(\"initial population\")\n",
    "print(\"Element represents a items of a product list (1..n). A product i=1 if included, and 0 otherwise.\")\n",
    "print(\"\")\n",
    "print(chrom)"
   ]
  },
  {
   "cell_type": "code",
   "execution_count": 119,
   "metadata": {},
   "outputs": [
    {
     "name": "stdout",
     "output_type": "stream",
     "text": [
      "\n",
      "[0, 0, 0, 1, 0, 0]\n",
      "[3, 9]\n",
      "\n",
      "[1, 1, 1, 0, 0, 0]\n",
      "[18, 12]\n",
      "\n",
      "[0, 1, 0, 0, 0, 0]\n",
      "[3, 5]\n",
      "\n",
      "[0, 0, 0, 0, 1, 0]\n",
      "[9, 10]\n"
     ]
    }
   ],
   "source": [
    "# STEP2. Evaluation (lower value, shorted path)\n",
    "\n",
    "#Check now the result from initial population\n",
    "aaa=of(chrom)"
   ]
  },
  {
   "cell_type": "code",
   "execution_count": 120,
   "metadata": {},
   "outputs": [
    {
     "name": "stdout",
     "output_type": "stream",
     "text": [
      "\n",
      "[0, 0, 0, 1, 0, 0]\n",
      "[3, 9]\n",
      "\n",
      "[1, 1, 1, 0, 0, 0]\n",
      "[18, 12]\n",
      "\n",
      "[0, 1, 0, 0, 0, 0]\n",
      "[3, 5]\n",
      "\n",
      "[0, 0, 0, 0, 1, 0]\n",
      "[9, 10]\n",
      "{1: [1, 1, 1, 0, 0, 0], 2: [1, 1, 1, 0, 0, 0], 3: [1, 1, 1, 0, 0, 0]}\n",
      "\n",
      "New population for next generation:\n",
      "{1: [1, 1, 1, 0, 0, 0], 2: [1, 1, 1, 0, 0, 0], 3: [1, 1, 1, 0, 0, 0]}\n"
     ]
    }
   ],
   "source": [
    "# STEP3. Selection\n",
    "s1=of(chrom)\n",
    "aux=[]\n",
    "k=1\n",
    "for i in s1: \n",
    "    aux.append(s1[i][0])\n",
    "    k=k+1\n",
    "s=prob(aux)\n",
    "k=cprob(s)\n",
    "p=1\n",
    "c={}\n",
    "for i in k:\n",
    "    c[p] = k[i]\n",
    "    p=p+1\n",
    "l=gfitprob(4)\n",
    "a=whichchrom(l,c,chrom)\n",
    "print(\"\")\n",
    "print(\"New population for next generation:\")\n",
    "print(a)"
   ]
  },
  {
   "cell_type": "code",
   "execution_count": 121,
   "metadata": {},
   "outputs": [
    {
     "name": "stdout",
     "output_type": "stream",
     "text": [
      "selection of population for crossover:\n",
      "{1: [1, 1, 1, 0, 0, 0], 3: [1, 1, 1, 0, 0, 0]}\n",
      "\n",
      "random number for position in chromosomes\n",
      "{1: 4}\n",
      "\n",
      "population[1]=[1, 1, 1, 0, 0, 0],population[3]=[1, 1, 1, 0, 0, 0]\n",
      "newpopulation[1]=[1, 1, 1, 0, 0, 0]\n",
      "gene position for crossover(C)=4\n",
      "\n",
      " \n",
      "population with only crossover:\n",
      "{1: [1, 1, 1, 0, 0, 0]}\n",
      "{1: [1, 1, 1, 0, 0, 0]}\n",
      "\n",
      "genes to be changed\n",
      "{1: 2}\n",
      "\n",
      "C[1]=2,element position=1\n",
      "gen=0,pop=[1, 1, 1, 0, 0, 0]\n",
      "population[1]=[1, 0, 1, 0, 0, 0]\n",
      "\n",
      " \n",
      "population with only mutation cases:\n",
      "{1: [1, 0, 1, 0, 0, 0]}\n",
      " \n",
      "total population with crossover and mutation cases:\n",
      "{1: [1, 0, 1, 0, 0, 0]}\n"
     ]
    }
   ],
   "source": [
    "# STEP 4. Selection of population with crossover (execute this step several times until population is generated)\n",
    "rate=0.5 # 50% are selected\n",
    "b=selectpopulationforcrossover(a, rate)\n",
    "print(\"selection of population for crossover:\")\n",
    "print(b)\n",
    "c=applycrossover(b)\n",
    "print(\" \")\n",
    "print(\"population with only crossover:\")\n",
    "print(c)\n",
    "\n",
    "# STEP 5. Selection of population with crossover and mutation\n",
    "pm=0.20 # mutation rate of 20% \n",
    "d=mutation(c, pm)\n",
    "print(\" \")\n",
    "print(\"population with only mutation cases:\")\n",
    "print(d)\n",
    "for i in c:\n",
    "    if(not(i in d)):\n",
    "        d[i]=c[i]\n",
    "print(\" \")\n",
    "print(\"total population with crossover and mutation cases:\")\n",
    "print(d)"
   ]
  },
  {
   "cell_type": "code",
   "execution_count": 107,
   "metadata": {},
   "outputs": [
    {
     "name": "stdout",
     "output_type": "stream",
     "text": [
      " \n",
      "total population including crossover and mutation cases:\n",
      "{1: [1, 1, 0, 1, 1, 1], 2: [1, 1, 0, 1, 1, 1], 3: [1, 1, 1, 0, 1, 1], 4: [1, 1, 1, 0, 1, 1]}\n",
      "\n",
      "[1, 1, 0, 1, 1, 1]\n",
      "[33, 33]\n",
      "\n",
      "[1, 1, 0, 1, 1, 1]\n",
      "[33, 33]\n",
      "\n",
      "[1, 1, 1, 0, 1, 1]\n",
      "[38, 28]\n",
      "\n",
      "[1, 1, 1, 0, 1, 1]\n",
      "[38, 28]\n"
     ]
    }
   ],
   "source": [
    "# STEP 6. Selection of population after crossover and mutation\n",
    "for i in a:\n",
    "    if(not(i in d)):\n",
    "        d[i]=a[i]\n",
    "print(\" \")\n",
    "print(\"total population including crossover and mutation cases:\")\n",
    "print(d)\n",
    "\n",
    "# STEP7. Evaluation \n",
    "dd=of(d)"
   ]
  },
  {
   "cell_type": "code",
   "execution_count": 108,
   "metadata": {},
   "outputs": [
    {
     "name": "stdout",
     "output_type": "stream",
     "text": [
      "\n",
      "[1, 1, 0, 1, 1, 1]\n",
      "[33, 33]\n",
      "\n",
      "[1, 1, 0, 1, 1, 1]\n",
      "[33, 33]\n",
      "\n",
      "[1, 1, 1, 0, 1, 1]\n",
      "[38, 28]\n",
      "\n",
      "[1, 1, 1, 0, 1, 1]\n",
      "[38, 28]\n",
      "{1: [33, 33], 2: [33, 33], 3: [38, 28], 4: [38, 28]}\n"
     ]
    }
   ],
   "source": [
    "# STEP6. Evaluation \n",
    "print(of(a))"
   ]
  },
  {
   "cell_type": "code",
   "execution_count": 84,
   "metadata": {
    "scrolled": true
   },
   "outputs": [
    {
     "name": "stdout",
     "output_type": "stream",
     "text": [
      "{1: [1, 0, 0, 1, 0, 1], 2: [1, 0, 1, 0, 1, 1], 3: [1, 1, 0, 0, 0, 0], 4: [1, 0, 0, 0, 0, 0]}\n",
      "{1: [21, 18], 2: [35, 23], 3: [10, 8], 4: [7, 3]}\n"
     ]
    }
   ],
   "source": []
  },
  {
   "cell_type": "code",
   "execution_count": null,
   "metadata": {},
   "outputs": [],
   "source": []
  },
  {
   "cell_type": "code",
   "execution_count": null,
   "metadata": {},
   "outputs": [],
   "source": []
  }
 ],
 "metadata": {
  "kernelspec": {
   "display_name": "Python 3",
   "language": "python",
   "name": "python3"
  },
  "language_info": {
   "codemirror_mode": {
    "name": "ipython",
    "version": 3
   },
   "file_extension": ".py",
   "mimetype": "text/x-python",
   "name": "python",
   "nbconvert_exporter": "python",
   "pygments_lexer": "ipython3",
   "version": "3.7.3"
  }
 },
 "nbformat": 4,
 "nbformat_minor": 4
}
