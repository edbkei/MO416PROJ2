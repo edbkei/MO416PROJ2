{
 "cells": [
  {
   "cell_type": "code",
   "execution_count": 12,
   "metadata": {},
   "outputs": [
    {
     "data": {
      "text/html": [
       "<h3>Student: Eduardo S. Ito (RA 159086)</h3>"
      ],
      "text/plain": [
       "<IPython.core.display.HTML object>"
      ]
     },
     "metadata": {},
     "output_type": "display_data"
    },
    {
     "data": {
      "text/html": [
       "<h3>Student: Thales E. Nazatto (RA 074388)</h3>"
      ],
      "text/plain": [
       "<IPython.core.display.HTML object>"
      ]
     },
     "metadata": {},
     "output_type": "display_data"
    },
    {
     "data": {
      "text/html": [
       "<h1>Project 2: Evolutionary Computing</h1>"
      ],
      "text/plain": [
       "<IPython.core.display.HTML object>"
      ]
     },
     "metadata": {},
     "output_type": "display_data"
    },
    {
     "data": {
      "text/html": [
       "<p>See generated pdf ...</p>"
      ],
      "text/plain": [
       "<IPython.core.display.HTML object>"
      ]
     },
     "metadata": {},
     "output_type": "display_data"
    }
   ],
   "source": [
    "# libraries\n",
    "import matplotlib.pyplot as plt\n",
    "import numpy as np\n",
    "from IPython.core.display import display, HTML\n",
    "from IPython.display import IFrame, display\n",
    "import tabulate\n",
    "display(HTML('<h3>Student: Eduardo S. Ito (RA 159086)</h3>'))\n",
    "display(HTML('<h3>Student: Thales E. Nazatto (RA 074388)</h3>'))\n",
    "display(HTML('<h1>Project 2: Evolutionary Computing</h1>'))\n",
    "from PIL import Image\n",
    "import os\n",
    "os.startfile('p2.pdf')\n",
    "display(HTML('<p>See generated pdf ...</p>'))"
   ]
  },
  {
   "cell_type": "code",
   "execution_count": 2,
   "metadata": {},
   "outputs": [
    {
     "data": {
      "text/html": [
       "<h2>Abstração Inicial</h2>"
      ],
      "text/plain": [
       "<IPython.core.display.HTML object>"
      ]
     },
     "metadata": {},
     "output_type": "display_data"
    },
    {
     "data": {
      "text/html": [
       "<p>Conforme referência [1], o problema da mochila (knapsack problem) é um problema de otimização               combinatória, cujo objetivo é preencher uma mochila com o maior valor possível, não excedendo a                capacidade máxima. A formulação do problema é extremamente simples, porém a solução é mais complexa,               inclusive faz parte dos 21 problemas NP-completos de Richard Karp.</p>"
      ],
      "text/plain": [
       "<IPython.core.display.HTML object>"
      ]
     },
     "metadata": {},
     "output_type": "display_data"
    },
    {
     "data": {
      "text/html": [
       "<p>O modelo evolucionário adotado será o Algoritmo Genético (GA).</p>"
      ],
      "text/plain": [
       "<IPython.core.display.HTML object>"
      ]
     },
     "metadata": {},
     "output_type": "display_data"
    },
    {
     "data": {
      "text/html": [
       "<p>A implementação foi realizada utilizado mecanismo de OOP (Object Oriented Programming).                A definição do problema é tratada pela classe KnapsackProblem (em problem.py), onde a função               de fitness está implementada. A geração da população é realizada pela classe GenerationManager                (em generation.py). A seleção da população pode ser realizada através de dos seguintes métodos                roulette wheel, tournament battle royale e tournament playoff gerenciada pela classe Selection                (em selection.py). A reprodução (crossover) pode ser realizada pelo método Asexual, Sexual com                apenas um simples ponto, sexual em dois pontos na classe Reproduction (em reproduction.py).               A mutação pode ser realizada pelos métodos generative, swap, sequence swap pela classe Mutation                (em mutation.py). A controle da geração da nova população bem como encontrar as medidas de fitness,                é realizada pela classe GeneticalgorithmFacade (em genetic_algorithm.py). A chamada de execução do                algoritmo genético é realizada pelo método run_ga definido aqui no jupyter notebook                com entrada de parâmetros número de gerações (generations), que também é o critério de parada,               o tamanho da população de cromossomos (population_size), taxa de reprodução                (crossover_probability), taxa de mutação (mutation_probability), vetores de valores, custos, pesos e                o peso máximo que um repositório pode carregar, pode ser uma mochila, um caminhão, etc.</p>"
      ],
      "text/plain": [
       "<IPython.core.display.HTML object>"
      ]
     },
     "metadata": {},
     "output_type": "display_data"
    },
    {
     "data": {
      "text/html": [
       "<p>A figura abaixo ilustra como será resolvido um problema em alto nível.</p>"
      ],
      "text/plain": [
       "<IPython.core.display.HTML object>"
      ]
     },
     "metadata": {},
     "output_type": "display_data"
    },
    {
     "data": {
      "image/png": "[encoded data removed]",
      "text/plain": [
       "<PIL.PngImagePlugin.PngImageFile image mode=RGBA size=608x462 at 0x22F381D7470>"
      ]
     },
     "metadata": {},
     "output_type": "display_data"
    }
   ],
   "source": [
    "from IPython.core.display import display, HTML\n",
    "import tabulate\n",
    "display(HTML('<h2>Abstração Inicial</h2>'))\n",
    "from PIL import Image\n",
    "path=\"abstraction.png\"\n",
    "display(HTML('<p>Conforme referência [1], o problema da mochila (knapsack problem) é um problema de otimização\\\n",
    "               combinatória, cujo objetivo é preencher uma mochila com o maior valor possível, não excedendo a \\\n",
    "               capacidade máxima. A formulação do problema é extremamente simples, porém a solução é mais complexa,\\\n",
    "               inclusive faz parte dos 21 problemas NP-completos de Richard Karp.</p>'))\n",
    "display(HTML('<p>O modelo evolucionário adotado será o Algoritmo Genético (GA).</p>'))\n",
    "display(HTML('<p>A implementação foi realizada utilizado mecanismo de OOP (Object Oriented Programming). \\\n",
    "               A definição do problema é tratada pela classe KnapsackProblem (em problem.py), onde a função\\\n",
    "               de fitness está implementada. A geração da população é realizada pela classe GenerationManager \\\n",
    "               (em generation.py). A seleção da população pode ser realizada através de dos seguintes métodos \\\n",
    "               roulette wheel, tournament battle royale e tournament playoff gerenciada pela classe Selection \\\n",
    "               (em selection.py). A reprodução (crossover) pode ser realizada pelo método Asexual, Sexual com \\\n",
    "               apenas um simples ponto, sexual em dois pontos na classe Reproduction (em reproduction.py).\\\n",
    "               A mutação pode ser realizada pelos métodos generative, swap, sequence swap pela classe Mutation \\\n",
    "               (em mutation.py). A controle da geração da nova população bem como encontrar as medidas de fitness, \\\n",
    "               é realizada pela classe GeneticalgorithmFacade (em genetic_algorithm.py). A chamada de execução do \\\n",
    "               algoritmo genético é realizada pelo método run_ga definido aqui no jupyter notebook \\\n",
    "               com entrada de parâmetros número de gerações (generations), que também é o critério de parada,\\\n",
    "               o tamanho da população de cromossomos (population_size), taxa de reprodução \\\n",
    "               (crossover_probability), taxa de mutação (mutation_probability), vetores de valores, custos, pesos e \\\n",
    "               o peso máximo que um repositório pode carregar, pode ser uma mochila, um caminhão, etc.</p>'))\n",
    "display(HTML('<p>A figura abaixo ilustra como será resolvido um problema em alto nível.</p>'))\n",
    "display(Image.open(path))\n"
   ]
  },
  {
   "cell_type": "code",
   "execution_count": 3,
   "metadata": {},
   "outputs": [
    {
     "data": {
      "text/html": [
       "<h2>Modelamento</h2>"
      ],
      "text/plain": [
       "<IPython.core.display.HTML object>"
      ]
     },
     "metadata": {},
     "output_type": "display_data"
    },
    {
     "data": {
      "text/html": [
       "<p>See generated pdf ...</p>"
      ],
      "text/plain": [
       "<IPython.core.display.HTML object>"
      ]
     },
     "metadata": {},
     "output_type": "display_data"
    },
    {
     "data": {
      "text/html": [
       "<h2>Solução</h2>"
      ],
      "text/plain": [
       "<IPython.core.display.HTML object>"
      ]
     },
     "metadata": {},
     "output_type": "display_data"
    }
   ],
   "source": [
    "display(HTML('<h2>Modelamento</h2>'))\n",
    "filepath='modellingClasses.pdf'\n",
    "os.startfile(filepath)\n",
    "display(HTML('<p>See generated pdf ...</p>'))\n",
    "display(HTML('<h2>Solução</h2>'))"
   ]
  },
  {
   "cell_type": "code",
   "execution_count": 13,
   "metadata": {},
   "outputs": [],
   "source": [
    "from knapsack.generation import GenerationManager, GenerationStrategy\n",
    "from knapsack.genetic_algorithm import GeneticAlgorithmFacade\n",
    "from knapsack.mutation import Mutation, MutationStrategy\n",
    "from knapsack.problem import KnapsackProblem, ProblemType\n",
    "from knapsack.reproduction import Reproduction, ReproductionStrategy\n",
    "from knapsack.selection import Selection, SelectionStrategy\n",
    "\n",
    "class Config:\n",
    "    def __init__(self):\n",
    "        pass\n",
    "\n",
    "\n",
    "def run_ga(generations,population_size,crossover_probability,mutation_probability,values,costs,weights,cargo):\n",
    "\n",
    "    config=Config\n",
    "    config.problem=KnapsackProblem(type=ProblemType.MAXIMIZATION,\n",
    "                    values=values,\n",
    "                    costs=costs,\n",
    "                    weights=weights,\n",
    "                    cargo=cargo)\n",
    "                                   \n",
    "    selection=Selection(config.problem, SelectionStrategy.TOURNAMENT_BATTLE_ROYALE)\n",
    "    reproduction=Reproduction(ReproductionStrategy.SEXUAL_SINGLE_POINT, crossover_probability)\n",
    "    mutation=Mutation(MutationStrategy.GENERATIVE, mutation_probability)\n",
    "\n",
    "    config.generation=GenerationManager(config.problem, GenerationStrategy.EXCHANGE, selection, reproduction, mutation)\n",
    "    config.population_size=population_size\n",
    "    config.generations=generations\n",
    "\n",
    "    GeneticAlgorithmFacade(config).execute()\n",
    "    \n",
    "def graphics(fileid):\n",
    "    import csv\n",
    "    x=[]\n",
    "    max=[]\n",
    "    med=[]\n",
    "    min=[]\n",
    "\n",
    "    with open(fileid,'rt')as f:\n",
    "      data = csv.reader(f)\n",
    "      for row in data:\n",
    "            x.append(int(row[0]))\n",
    "            max.append(float(row[1]))\n",
    "            med.append(float(row[2]))\n",
    "            min.append(float(row[3]))\n",
    "\n",
    "    plt.plot(x, max, label=\"maximum fitness\")\n",
    "    plt.plot(x, med, label=\"medium fitness\")\n",
    "    plt.plot(x, min, label=\"minimum fitness\")\n",
    "    plt.legend(loc='lower left')\n",
    "    plt.ylabel('fitness')\n",
    "    plt.xlabel('generations')\n",
    "    plt.title('knapsack problem')\n",
    "    plt.show()"
   ]
  },
  {
   "cell_type": "code",
   "execution_count": 17,
   "metadata": {},
   "outputs": [
    {
     "name": "stdout",
     "output_type": "stream",
     "text": [
      "Processing ...\n",
      "\n",
      "Best choice: \n",
      "[0, 1, 1, 1, 1, 0, 1, 1, 0, 1, 1, 1, 1] Fitness: 3600 Cost: 3600 Cargo: 600\n"
     ]
    }
   ],
   "source": [
    "# Caso 1: Cargo\n",
    "\n",
    "generations = 100\n",
    "population_size = 100\n",
    "crossover_probability = 0.8\n",
    "mutation_probability = 0.2\n",
    "values=[0, 1]\n",
    "costs=[100, 350, 200, 90, 500, 250, 220, 360, 150, 700, 400, 230, 550]\n",
    "weights=[50, 90, 30, 40, 100, 70, 20, 80, 80, 90, 50, 30, 70]\n",
    "cargo=600\n",
    "\n",
    "run_ga(generations,population_size,crossover_probability,mutation_probability,values,costs,weights,cargo)"
   ]
  },
  {
   "cell_type": "code",
   "execution_count": 18,
   "metadata": {},
   "outputs": [
    {
     "data": {
      "image/png": "[encoded data removed]",
      "text/plain": [
       "<Figure size 432x288 with 1 Axes>"
      ]
     },
     "metadata": {
      "needs_background": "light"
     },
     "output_type": "display_data"
    }
   ],
   "source": [
    "# graphics generation\n",
    "fileid=\"file1.txt\"\n",
    "graphics(fileid)"
   ]
  },
  {
   "cell_type": "code",
   "execution_count": 21,
   "metadata": {},
   "outputs": [
    {
     "name": "stdout",
     "output_type": "stream",
     "text": [
      "Processing ...\n",
      "\n",
      "Best choice: \n",
      "[0, 1, 0, 1, 1, 0] Fitness: 24 Cost: 24 Cargo: 15\n"
     ]
    }
   ],
   "source": [
    "# Caso 2: Knapsack problem\n",
    "\n",
    "# Knapsack maximum capabilityKnapsack\n",
    "maxWeight=20\n",
    "\n",
    "# Product List for Knapsack\n",
    "\n",
    "generations = 20\n",
    "population_size = 4\n",
    "crossover_probability = 0.8\n",
    "mutation_probability = 0.2\n",
    "values=[0, 1]\n",
    "costs=[3, 5, 4, 9, 10, 6]\n",
    "weights=[7, 3, 8, 3, 9, 11]\n",
    "cargo=20\n",
    "\n",
    "run_ga(generations,population_size,crossover_probability,mutation_probability,values,costs,weights,cargo)"
   ]
  },
  {
   "cell_type": "code",
   "execution_count": 22,
   "metadata": {},
   "outputs": [
    {
     "data": {
      "image/png": "[encoded data removed]",
      "text/plain": [
       "<Figure size 432x288 with 1 Axes>"
      ]
     },
     "metadata": {
      "needs_background": "light"
     },
     "output_type": "display_data"
    }
   ],
   "source": [
    "# graphics generation\n",
    "fileid=\"file1.txt\"\n",
    "graphics(fileid)"
   ]
  },
  {
   "cell_type": "code",
   "execution_count": 9,
   "metadata": {},
   "outputs": [
    {
     "data": {
      "text/html": [
       "<h3>Referências </h3>"
      ],
      "text/plain": [
       "<IPython.core.display.HTML object>"
      ]
     },
     "metadata": {},
     "output_type": "display_data"
    },
    {
     "data": {
      "text/html": [
       "<p>[1] https://pt.wikipedia.org/wiki/Problema_da_mochila</p>"
      ],
      "text/plain": [
       "<IPython.core.display.HTML object>"
      ]
     },
     "metadata": {},
     "output_type": "display_data"
    },
    {
     "data": {
      "text/html": [
       "<p>[2] https://www.youtube.com/watch?v=9kbzMeEBvUY</p>"
      ],
      "text/plain": [
       "<IPython.core.display.HTML object>"
      ]
     },
     "metadata": {},
     "output_type": "display_data"
    }
   ],
   "source": [
    "display(HTML('<h3>Referências </h3>'))\n",
    "display(HTML('<p>[1] https://pt.wikipedia.org/wiki/Problema_da_mochila</p>'))\n",
    "display(HTML('<p>[2] https://www.youtube.com/watch?v=9kbzMeEBvUY</p>'))"
   ]
  },
  {
   "cell_type": "code",
   "execution_count": null,
   "metadata": {},
   "outputs": [],
   "source": []
  }
 ],
 "metadata": {
  "kernelspec": {
   "display_name": "Python 3",
   "language": "python",
   "name": "python3"
  },
  "language_info": {
   "codemirror_mode": {
    "name": "ipython",
    "version": 3
   },
   "file_extension": ".py",
   "mimetype": "text/x-python",
   "name": "python",
   "nbconvert_exporter": "python",
   "pygments_lexer": "ipython3",
   "version": "3.7.3"
  }
 },
 "nbformat": 4,
 "nbformat_minor": 4
}
